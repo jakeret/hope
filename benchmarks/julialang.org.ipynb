{
 "cells": [
  {
   "cell_type": "code",
   "execution_count": 1,
   "metadata": {},
   "outputs": [
    {
     "data": {
      "application/json": {
       "Software versions": [
        {
         "module": "Python",
         "version": "3.5.1 64bit [GCC 4.2.1 (Apple Inc. build 5666) (dot 3)]"
        },
        {
         "module": "IPython",
         "version": "6.1.0"
        },
        {
         "module": "OS",
         "version": "Darwin 15.6.0 x86_64 i386 64bit"
        },
        {
         "module": "numpy",
         "version": "1.13.1"
        },
        {
         "module": "Cython",
         "version": "0.26"
        },
        {
         "module": "numba",
         "version": "0.34.0"
        },
        {
         "module": "hope",
         "version": "0.6.1"
        }
       ]
      },
      "text/html": [
       "<table><tr><th>Software</th><th>Version</th></tr><tr><td>Python</td><td>3.5.1 64bit [GCC 4.2.1 (Apple Inc. build 5666) (dot 3)]</td></tr><tr><td>IPython</td><td>6.1.0</td></tr><tr><td>OS</td><td>Darwin 15.6.0 x86_64 i386 64bit</td></tr><tr><td>numpy</td><td>1.13.1</td></tr><tr><td>Cython</td><td>0.26</td></tr><tr><td>numba</td><td>0.34.0</td></tr><tr><td>hope</td><td>0.6.1</td></tr><tr><td colspan='2'>Tue Aug 29 17:15:40 2017 CEST</td></tr></table>"
      ],
      "text/latex": [
       "\\begin{tabular}{|l|l|}\\hline\n",
       "{\\bf Software} & {\\bf Version} \\\\ \\hline\\hline\n",
       "Python & 3.5.1 64bit [GCC 4.2.1 (Apple Inc. build 5666) (dot 3)] \\\\ \\hline\n",
       "IPython & 6.1.0 \\\\ \\hline\n",
       "OS & Darwin 15.6.0 x86\\_64 i386 64bit \\\\ \\hline\n",
       "numpy & 1.13.1 \\\\ \\hline\n",
       "Cython & 0.26 \\\\ \\hline\n",
       "numba & 0.34.0 \\\\ \\hline\n",
       "hope & 0.6.1 \\\\ \\hline\n",
       "\\hline \\multicolumn{2}{|l|}{Tue Aug 29 17:15:40 2017 CEST} \\\\ \\hline\n",
       "\\end{tabular}\n"
      ],
      "text/plain": [
       "Software versions\n",
       "Python 3.5.1 64bit [GCC 4.2.1 (Apple Inc. build 5666) (dot 3)]\n",
       "IPython 6.1.0\n",
       "OS Darwin 15.6.0 x86_64 i386 64bit\n",
       "numpy 1.13.1\n",
       "Cython 0.26\n",
       "numba 0.34.0\n",
       "hope 0.6.1\n",
       "Tue Aug 29 17:15:40 2017 CEST"
      ]
     },
     "execution_count": 1,
     "metadata": {},
     "output_type": "execute_result"
    }
   ],
   "source": [
    "import hope\n",
    "hope.config.optimize = True\n",
    "hope.config.verbose = True\n",
    "hope.config.keeptemp = True\n",
    "hope.config.prefix = \"hope\"\n",
    "import numba\n",
    "import numpy as np\n",
    "from util import perf_comp_data\n",
    "from native_util import load\n",
    "%load_ext Cython\n",
    "%load_ext version_information\n",
    "%version_information numpy, Cython, numba, hope"
   ]
  },
  {
   "cell_type": "markdown",
   "metadata": {},
   "source": [
    "# fibonacci"
   ]
  },
  {
   "cell_type": "code",
   "execution_count": 2,
   "metadata": {},
   "outputs": [
    {
     "name": "stdout",
     "output_type": "stream",
     "text": [
      "running build_ext\n",
      "\n"
     ]
    }
   ],
   "source": [
    "def fib(n):\n",
    "    if n<2:\n",
    "        return n\n",
    "    return fib(n-1)+fib(n-2)\n",
    "hope_fib = hope.jit(fib)\n",
    "numba_fib = numba.jit(fib, nopython=False)\n",
    "\n",
    "native_fib_mod = load(\"fib\")\n",
    "native_fib = native_fib_mod.run \n",
    "\n",
    "n=20\n",
    "assert fib(20) == 6765\n",
    "assert hope_fib(20) == 6765\n",
    "assert numba_fib(20) == 6765\n",
    "assert native_fib(20) == 6765"
   ]
  },
  {
   "cell_type": "code",
   "execution_count": 3,
   "metadata": {},
   "outputs": [],
   "source": [
    "%%cython\n",
    "\n",
    "cimport cython\n",
    "\n",
    "@cython.boundscheck(False)\n",
    "@cython.wraparound(False)\n",
    "cpdef int cython_fib(int n):\n",
    "    if n<2:\n",
    "        return n\n",
    "    return cython_fib(n-1)+cython_fib(n-2)\n",
    "\n",
    "assert cython_fib(20) == 6765\n"
   ]
  },
  {
   "cell_type": "code",
   "execution_count": 4,
   "metadata": {},
   "outputs": [
    {
     "name": "stdout",
     "output_type": "stream",
     "text": [
      "3.11 ms ± 32.5 µs per loop (mean ± std. dev. of 7 runs, 100 loops each)\n",
      "39.5 µs ± 707 ns per loop (mean ± std. dev. of 7 runs, 10000 loops each)\n",
      "3.07 ms ± 30.5 µs per loop (mean ± std. dev. of 7 runs, 100 loops each)\n",
      "39.5 µs ± 571 ns per loop (mean ± std. dev. of 7 runs, 10000 loops each)\n",
      "39.6 µs ± 522 ns per loop (mean ± std. dev. of 7 runs, 10000 loops each)\n"
     ]
    }
   ],
   "source": [
    "%timeit fib(20)\n",
    "%timeit hope_fib(20)\n",
    "%timeit numba_fib(20)\n",
    "%timeit cython_fib(20)\n",
    "%timeit native_fib(20)"
   ]
  },
  {
   "cell_type": "code",
   "execution_count": 5,
   "metadata": {},
   "outputs": [
    {
     "name": "stdout",
     "output_type": "stream",
     "text": [
      "function: native_fib          , av. time sec:   0.00003945, min. time sec:   0.00003941, relative:       1.0\n",
      "function: cython_fib          , av. time sec:   0.00003969, min. time sec:   0.00003967, relative:       1.0\n",
      "function: hope_fib            , av. time sec:   0.00004080, min. time sec:   0.00004075, relative:       1.0\n",
      "function: numba_fib           , av. time sec:   0.00341285, min. time sec:   0.00320110, relative:      86.5\n",
      "function: fib                 , av. time sec:   0.00344686, min. time sec:   0.00311820, relative:      87.4\n"
     ]
    }
   ],
   "source": [
    "perf_comp_data([\"fib\", \"hope_fib\", \"numba_fib\", \"cython_fib\", \"native_fib\"],\n",
    "               5*[\"n\"])"
   ]
  },
  {
   "cell_type": "markdown",
   "metadata": {},
   "source": [
    "# quicksort"
   ]
  },
  {
   "cell_type": "code",
   "execution_count": 6,
   "metadata": {},
   "outputs": [
    {
     "name": "stdout",
     "output_type": "stream",
     "text": [
      "running build_ext\n",
      "building 'qsort_kernel' extension\n",
      "C compiler: /usr/bin/clang -fno-strict-aliasing -Wsign-compare -Wunreachable-code -fno-common -dynamic -DNDEBUG -g -fwrapv -O3 -Wall -Wstrict-prototypes -arch i386 -arch x86_64 -g\n",
      "\n",
      "compile options: '-I/Users/uweschmitt/Projects/hope/venv3/lib/python3.5/site-packages/numpy/core/include -I/Users/uweschmitt/Projects/hope/venv3/include -I/Library/Frameworks/Python.framework/Versions/3.5/include/python3.5m -c'\n",
      "extra options: '-Wall -Wno-unused-variable -march=native -stdlib=libc++ -std=c++11 -Wno-unreachable-code'\n",
      "\n"
     ]
    }
   ],
   "source": [
    "def qsort_kernel(a, lo, hi):\n",
    "    i = lo\n",
    "    j = hi\n",
    "    if False: return a\n",
    "    while i < hi:\n",
    "        pivot = a[(lo+hi) // 2]\n",
    "        while i <= j:\n",
    "            while a[i] < pivot:\n",
    "                i += 1\n",
    "            while a[j] > pivot:\n",
    "                j -= 1\n",
    "            if i <= j:\n",
    "                tmp = a[i]\n",
    "                a[i] = a[j]\n",
    "                a[j] = tmp\n",
    "                i += 1\n",
    "                j -= 1\n",
    "        if lo < j:\n",
    "            qsort_kernel(a, lo, j)\n",
    "        lo = i\n",
    "        j = hi\n",
    "    return a\n",
    "\n",
    "hope_qsort_kernel = hope.jit(qsort_kernel)\n",
    "numba_qsort_kernel = numba.jit(qsort_kernel)\n",
    "\n",
    "native_qsort_kernel_mod = load(\"qsort_kernel\")\n",
    "native_qsort_kernel = native_qsort_kernel_mod.run\n"
   ]
  },
  {
   "cell_type": "code",
   "execution_count": 7,
   "metadata": {
    "collapsed": true
   },
   "outputs": [],
   "source": [
    "def numpy_qsort_kernel(a, lo, hi):\n",
    "    np.sort(a)"
   ]
  },
  {
   "cell_type": "code",
   "execution_count": 8,
   "metadata": {},
   "outputs": [
    {
     "name": "stdout",
     "output_type": "stream",
     "text": [
      "building '_cython_magic_c4e853c051d00b69b625b262d253da82' extension\n",
      "C compiler: /usr/bin/clang -fno-strict-aliasing -Wsign-compare -Wunreachable-code -fno-common -dynamic -DNDEBUG -g -fwrapv -O3 -Wall -Wstrict-prototypes -arch i386 -arch x86_64 -g\n",
      "\n",
      "compile options: '-I/Users/uweschmitt/Projects/hope/venv3/lib/python3.5/site-packages/numpy/core/include -I/Users/uweschmitt/Projects/hope/venv3/include -I/Library/Frameworks/Python.framework/Versions/3.5/include/python3.5m -c'\n",
      "clang: /Users/uweschmitt/.ipython/cython/_cython_magic_c4e853c051d00b69b625b262d253da82.c\n",
      "In file included from /Users/uweschmitt/.ipython/cython/_cython_magic_c4e853c051d00b69b625b262d253da82.c:495:\n",
      "In file included from /Users/uweschmitt/Projects/hope/venv3/lib/python3.5/site-packages/numpy/core/include/numpy/arrayobject.h:4:\n",
      "In file included from /Users/uweschmitt/Projects/hope/venv3/lib/python3.5/site-packages/numpy/core/include/numpy/ndarrayobject.h:18:\n",
      "In file included from /Users/uweschmitt/Projects/hope/venv3/lib/python3.5/site-packages/numpy/core/include/numpy/ndarraytypes.h:1809:\n",
      "/Users/uweschmitt/Projects/hope/venv3/lib/python3.5/site-packages/numpy/core/include/numpy/npy_1_7_deprecated_api.h:15:2: warning: \"Using deprecated NumPy API, disable it by \"          \"#defining NPY_NO_DEPRECATED_API NPY_1_7_API_VERSION\" [-W#warnings]\n",
      "#warning \"Using deprecated NumPy API, disable it by \" \\\n",
      " ^\n",
      "1 warning generated.\n",
      "In file included from /Users/uweschmitt/.ipython/cython/_cython_magic_c4e853c051d00b69b625b262d253da82.c:495:\n",
      "In file included from /Users/uweschmitt/Projects/hope/venv3/lib/python3.5/site-packages/numpy/core/include/numpy/arrayobject.h:4:\n",
      "In file included from /Users/uweschmitt/Projects/hope/venv3/lib/python3.5/site-packages/numpy/core/include/numpy/ndarrayobject.h:18:\n",
      "In file included from /Users/uweschmitt/Projects/hope/venv3/lib/python3.5/site-packages/numpy/core/include/numpy/ndarraytypes.h:1809:\n",
      "/Users/uweschmitt/Projects/hope/venv3/lib/python3.5/site-packages/numpy/core/include/numpy/npy_1_7_deprecated_api.h:15:2: warning: \"Using deprecated NumPy API, disable it by \"          \"#defining NPY_NO_DEPRECATED_API NPY_1_7_API_VERSION\" [-W#warnings]\n",
      "#warning \"Using deprecated NumPy API, disable it by \" \\\n",
      " ^\n",
      "1 warning generated.\n",
      "/usr/bin/clang -bundle -undefined dynamic_lookup -arch i386 -arch x86_64 -g /Users/uweschmitt/.ipython/cython/Users/uweschmitt/.ipython/cython/_cython_magic_c4e853c051d00b69b625b262d253da82.o -o /Users/uweschmitt/.ipython/cython/_cython_magic_c4e853c051d00b69b625b262d253da82.cpython-35m-darwin.so\n"
     ]
    }
   ],
   "source": [
    "%%cython\n",
    "\n",
    "cimport cython\n",
    "import numpy as np\n",
    "cimport numpy as np\n",
    "\n",
    "@cython.boundscheck(False)\n",
    "@cython.wraparound(False)\n",
    "cdef _cython_qsort_kernel(np.double_t * a, int lo, int hi):\n",
    "    cdef int i = lo\n",
    "    cdef int j = hi\n",
    "    cdef double pivot = 0\n",
    "    cdef double tmp = 0.0\n",
    "    if False: return a\n",
    "    while i < hi:\n",
    "        pivot = a[(lo+hi) // 2]\n",
    "        while i <= j:\n",
    "            while a[i] < pivot:\n",
    "                i += 1\n",
    "            while a[j] > pivot:\n",
    "                j -= 1\n",
    "            if i <= j:\n",
    "                tmp = a[i]\n",
    "                a[i] = a[j]\n",
    "                a[j] = tmp\n",
    "                i += 1\n",
    "                j -= 1\n",
    "        if lo < j:\n",
    "            _cython_qsort_kernel(a, lo, j)\n",
    "        lo = i\n",
    "        j = hi\n",
    "\n",
    "def cython_qsort_kernel(np.ndarray[np.double_t, ndim=1] a, int lo, int hi):\n",
    "    _cython_qsort_kernel(<np.double_t*> a.data, lo, hi)\n",
    "    return a"
   ]
  },
  {
   "cell_type": "code",
   "execution_count": 9,
   "metadata": {
    "collapsed": true
   },
   "outputs": [],
   "source": [
    "lst = np.random.random(5000)\n"
   ]
  },
  {
   "cell_type": "code",
   "execution_count": 10,
   "metadata": {
    "scrolled": false
   },
   "outputs": [],
   "source": [
    "psorted = qsort_kernel(lst.copy(), 0, len(lst)-1)\n",
    "hsorted = hope_qsort_kernel(lst.copy(), 0, len(lst)-1)\n",
    "#nsorted = numba_qsort_kernel(lst.copy(), 0, len(lst)-1)\n",
    "csorted = cython_qsort_kernel(lst.copy(), 0, len(lst)-1)\n",
    "nasorted = native_qsort_kernel(lst.copy(), 0, len(lst)-1)\n"
   ]
  },
  {
   "cell_type": "code",
   "execution_count": 11,
   "metadata": {},
   "outputs": [
    {
     "name": "stdout",
     "output_type": "stream",
     "text": [
      "22.9 ms ± 785 µs per loop (mean ± std. dev. of 7 runs, 10 loops each)\n",
      "349 µs ± 3.85 µs per loop (mean ± std. dev. of 7 runs, 1000 loops each)\n",
      "332 µs ± 8.69 µs per loop (mean ± std. dev. of 7 runs, 1000 loops each)\n",
      "313 µs ± 8.87 µs per loop (mean ± std. dev. of 7 runs, 1000 loops each)\n",
      "242 µs ± 15.2 µs per loop (mean ± std. dev. of 7 runs, 1000 loops each)\n"
     ]
    }
   ],
   "source": [
    "assert np.all(psorted[:-1] <= psorted[1:])\n",
    "#assert np.all(hope_qsort_kernel[:-1] <= hope_qsort_kernel[1:])\n",
    "#assert np.all(numba_qsort_kernel[:-1] <= numba_qsort_kernel[1:])\n",
    "#assert np.all(cython_qsort_kernel[:-1] <= cython_qsort_kernel[1:])\n",
    "\n",
    "%timeit qsort_kernel(lst.copy(), 0, len(lst)-1)\n",
    "%timeit hope_qsort_kernel(lst.copy(), 0, len(lst)-1)\n",
    "#%timeit numba_qsort_kernel(lst.copy(), 0, len(lst)-1)\n",
    "%timeit cython_qsort_kernel(lst.copy(), 0, len(lst)-1)\n",
    "%timeit native_qsort_kernel(lst.copy(), 0, len(lst)-1)\n",
    "%timeit np.sort(lst.copy())"
   ]
  },
  {
   "cell_type": "code",
   "execution_count": 12,
   "metadata": {},
   "outputs": [
    {
     "name": "stdout",
     "output_type": "stream",
     "text": [
      "function: native_qsort_kernel , av. time sec:   0.00029402, min. time sec:   0.00029235, relative:       1.0\n",
      "function: cython_qsort_kernel , av. time sec:   0.00031540, min. time sec:   0.00031303, relative:       1.1\n",
      "function: hope_qsort_kernel   , av. time sec:   0.00035815, min. time sec:   0.00033481, relative:       1.2\n",
      "function: qsort_kernel        , av. time sec:   0.02226692, min. time sec:   0.02194059, relative:      75.7\n"
     ]
    }
   ],
   "source": [
    "a = lst.copy()\n",
    "\n",
    "lo = 0\n",
    "hi = len(lst)-1\n",
    "\n",
    "perf_comp_data([\"hope_qsort_kernel\", \n",
    "                \"qsort_kernel\", \n",
    "                #\"numpy_qsort_kernel\", \n",
    "                \"cython_qsort_kernel\", \n",
    "                \"native_qsort_kernel\"],\n",
    "               5*[\"a, lo, hi\"], rep=100, extra_setup=\"from __main__ import lst;a = lst.copy()\")"
   ]
  },
  {
   "cell_type": "markdown",
   "metadata": {},
   "source": [
    "# pi sum"
   ]
  },
  {
   "cell_type": "code",
   "execution_count": 13,
   "metadata": {},
   "outputs": [
    {
     "name": "stdout",
     "output_type": "stream",
     "text": [
      "running build_ext\n",
      "building 'pisum' extension\n",
      "C compiler: /usr/bin/clang -fno-strict-aliasing -Wsign-compare -Wunreachable-code -fno-common -dynamic -DNDEBUG -g -fwrapv -O3 -Wall -Wstrict-prototypes -arch i386 -arch x86_64 -g\n",
      "\n",
      "compile options: '-I/Users/uweschmitt/Projects/hope/venv3/lib/python3.5/site-packages/numpy/core/include -I/Users/uweschmitt/Projects/hope/venv3/include -I/Library/Frameworks/Python.framework/Versions/3.5/include/python3.5m -c'\n",
      "extra options: '-Wall -Wno-unused-variable -march=native -stdlib=libc++ -std=c++11 -Wno-unreachable-code'\n",
      "\n",
      "running build_ext\n",
      "building 'pisum_opt' extension\n",
      "C compiler: /usr/bin/clang -fno-strict-aliasing -Wsign-compare -Wunreachable-code -fno-common -dynamic -DNDEBUG -g -fwrapv -O3 -Wall -Wstrict-prototypes -arch i386 -arch x86_64 -g\n",
      "\n",
      "compile options: '-I/Users/uweschmitt/Projects/hope/venv3/lib/python3.5/site-packages/numpy/core/include -I/Users/uweschmitt/Projects/hope/venv3/include -I/Library/Frameworks/Python.framework/Versions/3.5/include/python3.5m -c'\n",
      "extra options: '-Wall -Wno-unused-variable -march=native -stdlib=libc++ -std=c++11 -Wno-unreachable-code'\n",
      "\n"
     ]
    },
    {
     "ename": "AssertionError",
     "evalue": "",
     "output_type": "error",
     "traceback": [
      "\u001b[0;31m---------------------------------------------------------------------------\u001b[0m",
      "\u001b[0;31mAssertionError\u001b[0m                            Traceback (most recent call last)",
      "\u001b[0;32m<ipython-input-13-a1529d6baced>\u001b[0m in \u001b[0;36m<module>\u001b[0;34m()\u001b[0m\n\u001b[1;32m     33\u001b[0m \u001b[0;32massert\u001b[0m \u001b[0mabs\u001b[0m\u001b[0;34m(\u001b[0m\u001b[0mhope_pisum_opt\u001b[0m\u001b[0;34m(\u001b[0m\u001b[0;34m)\u001b[0m\u001b[0;34m-\u001b[0m\u001b[0;36m1.644834071848065\u001b[0m\u001b[0;34m)\u001b[0m \u001b[0;34m<\u001b[0m \u001b[0;36m1e-6\u001b[0m\u001b[0;34m\u001b[0m\u001b[0m\n\u001b[1;32m     34\u001b[0m \u001b[0;32massert\u001b[0m \u001b[0mabs\u001b[0m\u001b[0;34m(\u001b[0m\u001b[0mnumba_pisum\u001b[0m\u001b[0;34m(\u001b[0m\u001b[0;34m)\u001b[0m\u001b[0;34m-\u001b[0m\u001b[0;36m1.644834071848065\u001b[0m\u001b[0;34m)\u001b[0m \u001b[0;34m<\u001b[0m \u001b[0;36m1e-6\u001b[0m\u001b[0;34m\u001b[0m\u001b[0m\n\u001b[0;32m---> 35\u001b[0;31m \u001b[0;32massert\u001b[0m \u001b[0mabs\u001b[0m\u001b[0;34m(\u001b[0m\u001b[0mnative_pisum\u001b[0m\u001b[0;34m(\u001b[0m\u001b[0;34m)\u001b[0m\u001b[0;34m-\u001b[0m\u001b[0;36m1.644834071848065\u001b[0m\u001b[0;34m)\u001b[0m \u001b[0;34m<\u001b[0m \u001b[0;36m1e-6\u001b[0m\u001b[0;34m\u001b[0m\u001b[0m\n\u001b[0m\u001b[1;32m     36\u001b[0m \u001b[0;32massert\u001b[0m \u001b[0mabs\u001b[0m\u001b[0;34m(\u001b[0m\u001b[0mnative_pisum_opt\u001b[0m\u001b[0;34m(\u001b[0m\u001b[0;34m)\u001b[0m\u001b[0;34m-\u001b[0m\u001b[0;36m1.644834071848065\u001b[0m\u001b[0;34m)\u001b[0m \u001b[0;34m<\u001b[0m \u001b[0;36m1e-6\u001b[0m\u001b[0;34m\u001b[0m\u001b[0m\n",
      "\u001b[0;31mAssertionError\u001b[0m: "
     ]
    }
   ],
   "source": [
    "def pisum():\n",
    "    for j in range(1, 501):\n",
    "        sum = 0.0\n",
    "        f = 0.0\n",
    "        for k in range(1, 10001):\n",
    "            sum += 1.0/(k*k)\n",
    "    return sum\n",
    "\n",
    "def pisum_opt():\n",
    "    for j in range(1, 501):\n",
    "        sum = 0.0\n",
    "        f = 0.0\n",
    "        for k in range(1, 10001):\n",
    "            f += 1.\n",
    "            sum += 1.0/(f*f)\n",
    "    return sum\n",
    "\n",
    "hope_pisum = hope.jit(pisum)\n",
    "hope_pisum_opt = hope.jit(pisum_opt)\n",
    "\n",
    "numba_pisum = numba.jit(pisum, nopython=True)\n",
    "numba_pisum_opt = numba.jit(pisum_opt, nopython=True)\n",
    "\n",
    "native_pisum_mod = load(\"pisum\")\n",
    "native_pisum = native_pisum_mod.run\n",
    "\n",
    "native_pisum_opt_mod = load(\"pisum_opt\")\n",
    "native_pisum_opt = native_pisum_opt_mod.run\n",
    "\n",
    "\n",
    "assert abs(pisum()-1.644834071848065) < 1e-6\n",
    "assert abs(hope_pisum()-1.644834071848065) < 1e-6\n",
    "assert abs(hope_pisum_opt()-1.644834071848065) < 1e-6\n",
    "assert abs(numba_pisum()-1.644834071848065) < 1e-6\n",
    "assert abs(native_pisum()-1.644834071848065) < 1e-6\n",
    "assert abs(native_pisum_opt()-1.644834071848065) < 1e-6"
   ]
  },
  {
   "cell_type": "code",
   "execution_count": 15,
   "metadata": {},
   "outputs": [],
   "source": [
    "%%cython\n",
    "\n",
    "cimport cython\n",
    "\n",
    "@cython.boundscheck(False)\n",
    "@cython.wraparound(False)\n",
    "@cython.locals(f=float)\n",
    "@cython.cdivision(True)\n",
    "def cython_pisum():\n",
    "    cdef double sum = 0.0\n",
    "    cdef int j, k\n",
    "    for j in range(1, 501):\n",
    "        sum = 0.0\n",
    "        for k in range(1, 10001):\n",
    "            sum += 1.0/(k*k)\n",
    "    return sum\n",
    "\n",
    "@cython.boundscheck(False)\n",
    "@cython.wraparound(False)\n",
    "@cython.locals(f=float)\n",
    "@cython.cdivision(True)\n",
    "def cython_pisum_opt():\n",
    "    cdef double sum = 0.0\n",
    "    cdef int j, k\n",
    "    for j in range(1, 501):\n",
    "        sum = 0.0\n",
    "        f = 0.0\n",
    "        for k in range(1, 10001):\n",
    "            f += 1.\n",
    "            sum += 1.0/(f*f)\n",
    "    return sum\n",
    "\n",
    "\n",
    "assert abs(cython_pisum()-1.644834071848065) < 1e-6\n",
    "assert abs(cython_pisum_opt()-1.644834071848065) < 1e-6"
   ]
  },
  {
   "cell_type": "code",
   "execution_count": 16,
   "metadata": {},
   "outputs": [
    {
     "name": "stdout",
     "output_type": "stream",
     "text": [
      "740 ms ± 38.7 ms per loop (mean ± std. dev. of 7 runs, 1 loop each)\n",
      "615 ms ± 8.21 ms per loop (mean ± std. dev. of 7 runs, 1 loop each)\n",
      "39 ms ± 660 µs per loop (mean ± std. dev. of 7 runs, 10 loops each)\n",
      "20.9 ms ± 401 µs per loop (mean ± std. dev. of 7 runs, 10 loops each)\n",
      "21 ms ± 381 µs per loop (mean ± std. dev. of 7 runs, 10 loops each)\n",
      "20.9 ms ± 547 µs per loop (mean ± std. dev. of 7 runs, 10 loops each)\n",
      "20.8 ms ± 360 µs per loop (mean ± std. dev. of 7 runs, 10 loops each)\n",
      "20.8 ms ± 484 µs per loop (mean ± std. dev. of 7 runs, 10 loops each)\n",
      "32.8 ms ± 1.88 ms per loop (mean ± std. dev. of 7 runs, 10 loops each)\n",
      "23.3 ms ± 1.31 ms per loop (mean ± std. dev. of 7 runs, 10 loops each)\n"
     ]
    }
   ],
   "source": [
    "%timeit pisum()\n",
    "%timeit pisum_opt()\n",
    "%timeit hope_pisum()\n",
    "%timeit hope_pisum_opt()\n",
    "%timeit numba_pisum()\n",
    "%timeit numba_pisum_opt()\n",
    "%timeit cython_pisum()\n",
    "%timeit cython_pisum_opt()\n",
    "%timeit native_pisum()\n",
    "%timeit native_pisum_opt()"
   ]
  },
  {
   "cell_type": "code",
   "execution_count": 17,
   "metadata": {},
   "outputs": [
    {
     "name": "stdout",
     "output_type": "stream",
     "text": [
      "function: cython_pisum_opt    , av. time sec:   0.02031763, min. time sec:   0.02003632, relative:       1.0\n",
      "function: cython_pisum        , av. time sec:   0.02036748, min. time sec:   0.02007828, relative:       1.0\n",
      "function: hope_pisum_opt      , av. time sec:   0.02039336, min. time sec:   0.02009269, relative:       1.0\n",
      "function: numba_pisum         , av. time sec:   0.02047833, min. time sec:   0.02018560, relative:       1.0\n",
      "function: numba_pisum_opt     , av. time sec:   0.02050058, min. time sec:   0.02010900, relative:       1.0\n",
      "function: native_pisum_opt    , av. time sec:   0.02051785, min. time sec:   0.02011683, relative:       1.0\n",
      "function: native_pisum        , av. time sec:   0.02956523, min. time sec:   0.02909494, relative:       1.5\n",
      "function: hope_pisum          , av. time sec:   0.03828400, min. time sec:   0.03774484, relative:       1.9\n",
      "function: pisum_opt           , av. time sec:   0.62492522, min. time sec:   0.60418793, relative:      30.8\n",
      "function: pisum               , av. time sec:   0.78460755, min. time sec:   0.68841730, relative:      38.6\n"
     ]
    }
   ],
   "source": [
    "perf_comp_data([\"pisum\", \"pisum_opt\", \n",
    "                \"hope_pisum\", \"hope_pisum_opt\", \n",
    "                \"numba_pisum\", \"numba_pisum_opt\", \n",
    "                \"cython_pisum\", \n",
    "                \"cython_pisum_opt\",\n",
    "                \"native_pisum\", \"native_pisum_opt\",], \n",
    "                None, rep=100)"
   ]
  }
 ],
 "metadata": {
  "kernelspec": {
   "display_name": "Python 3",
   "language": "python",
   "name": "python3"
  },
  "language_info": {
   "codemirror_mode": {
    "name": "ipython",
    "version": 3
   },
   "file_extension": ".py",
   "mimetype": "text/x-python",
   "name": "python",
   "nbconvert_exporter": "python",
   "pygments_lexer": "ipython3",
   "version": "3.5.1"
  }
 },
 "nbformat": 4,
 "nbformat_minor": 1
}
