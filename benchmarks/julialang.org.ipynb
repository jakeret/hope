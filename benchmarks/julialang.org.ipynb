{
 "cells": [
  {
   "cell_type": "code",
   "execution_count": 1,
   "metadata": {},
   "outputs": [
    {
     "data": {
      "application/json": {
       "Software versions": [
        {
         "module": "Python",
         "version": "2.7.8 64bit [GCC 4.2.1 Compatible Apple LLVM 5.1 (clang-503.0.40)]"
        },
        {
         "module": "IPython",
         "version": "1.1.0"
        },
        {
         "module": "OS",
         "version": "Darwin 13.4.0 x86_64 i386 64bit"
        },
        {
         "module": "numpy",
         "version": "1.8.1"
        },
        {
         "module": "Cython",
         "version": "0.20.2"
        },
        {
         "module": "numba",
         "version": "tag: 0.13.3"
        },
        {
         "module": "hope",
         "version": "0.3.0"
        }
       ]
      },
      "text/html": [
       "<table><tr><th>Software</th><th>Version</th></tr><tr><td>Python</td><td>2.7.8 64bit [GCC 4.2.1 Compatible Apple LLVM 5.1 (clang-503.0.40)]</td></tr><tr><td>IPython</td><td>1.1.0</td></tr><tr><td>OS</td><td>Darwin 13.4.0 x86_64 i386 64bit</td></tr><tr><td>numpy</td><td>1.8.1</td></tr><tr><td>Cython</td><td>0.20.2</td></tr><tr><td>numba</td><td>tag: 0.13.3</td></tr><tr><td>hope</td><td>0.3.0</td></tr><tr><td colspan='2'>Thu Dec 04 11:18:15 2014 CET</td></tr></table>"
      ],
      "text/latex": [
       "\\begin{tabular}{|l|l|}\\hline\n",
       "{\\bf Software} & {\\bf Version} \\\\ \\hline\\hline\n",
       "Python & 2.7.8 64bit [GCC 4.2.1 Compatible Apple LLVM 5.1 (clang-503.0.40)] \\\\ \\hline\n",
       "IPython & 1.1.0 \\\\ \\hline\n",
       "OS & Darwin 13.4.0 x86\\_64 i386 64bit \\\\ \\hline\n",
       "numpy & 1.8.1 \\\\ \\hline\n",
       "Cython & 0.20.2 \\\\ \\hline\n",
       "numba & tag: 0.13.3 \\\\ \\hline\n",
       "hope & 0.3.0 \\\\ \\hline\n",
       "\\hline \\multicolumn{2}{|l|}{Thu Dec 04 11:18:15 2014 CET} \\\\ \\hline\n",
       "\\end{tabular}\n"
      ],
      "text/plain": [
       "Software versions\n",
       "Python 2.7.8 64bit [GCC 4.2.1 Compatible Apple LLVM 5.1 (clang-503.0.40)]\n",
       "IPython 1.1.0\n",
       "OS Darwin 13.4.0 x86_64 i386 64bit\n",
       "numpy 1.8.1\n",
       "Cython 0.20.2\n",
       "numba tag: 0.13.3\n",
       "hope 0.3.0\n",
       "Thu Dec 04 11:18:15 2014 CET"
      ]
     },
     "execution_count": 1,
     "metadata": {},
     "output_type": "execute_result"
    }
   ],
   "source": [
    "import hope\n",
    "hope.config.optimize = True\n",
    "hope.config.verbose = True\n",
    "hope.config.keeptemp = True\n",
    "import numba\n",
    "import numpy as np\n",
    "from util import perf_comp_data\n",
    "from native_util import load\n",
    "%load_ext cythonmagic\n",
    "%load_ext version_information\n",
    "%version_information numpy, Cython, numba, hope"
   ]
  },
  {
   "cell_type": "markdown",
   "metadata": {},
   "source": [
    "# fibonacci"
   ]
  },
  {
   "cell_type": "code",
   "execution_count": 2,
   "metadata": {},
   "outputs": [
    {
     "name": "stdout",
     "output_type": "stream",
     "text": [
      "running build_ext\n",
      "building 'fib' extension\n",
      "C compiler: /usr/bin/clang -fno-strict-aliasing -fno-common -dynamic -pipe -Os -fwrapv -DNDEBUG -g -fwrapv -O3 -Wall -Wstrict-prototypes\n",
      "\n",
      "compile options: '-I/Users/jakeret/workspace/virtualenvs/hope_benchmarks/lib/python2.7/site-packages/numpy/core/include -I/opt/local/Library/Frameworks/Python.framework/Versions/2.7/include/python2.7 -c'\n",
      "extra options: '-Wall -Wno-unused-variable -march=native -stdlib=libc++ -std=c++11'\n",
      "clang: ././src/fib.cpp\n",
      "/usr/bin/clang++ -bundle -undefined dynamic_lookup -L/opt/local/lib -Wl,-headerpad_max_install_names -L/opt/local/lib/db48 ./src/fib.o -o ./fib.so\n",
      "\n",
      "fib(int64 n)\n",
      "\tif (n.J < 2.J) {\n",
      "\t\treturn n.J\n",
      "\t}\n",
      "\treturn (fib((n.J - 1.J)) + fib((n.J - 2.J)))\n",
      "\n",
      "Compiling following functions:\n",
      "fib(int64 n)\n",
      "running build_ext\n",
      "building 'fib_181039868ed022600dc3388e38604df736dff187257d5d6ae4c4d3ea_0' extension\n",
      "C compiler: /usr/bin/clang -fno-strict-aliasing -fno-common -dynamic -pipe -Os -fwrapv -DNDEBUG -g -fwrapv -O3 -Wall -Wstrict-prototypes\n",
      "\n",
      "compile options: '-I/Users/jakeret/workspace/virtualenvs/hope_benchmarks/lib/python2.7/site-packages/numpy/core/include -I/opt/local/Library/Frameworks/Python.framework/Versions/2.7/include/python2.7 -c'\n",
      "extra options: '-Wall -Wno-unused-variable -march=native -stdlib=libc++ -std=c++11'\n",
      "clang: /var/folders/k_/ttz9cd4d3kj2kbh3lvtn6tkm0000gn/T/hopeDXfz9_/fib_181039868ed022600dc3388e38604df736dff187257d5d6ae4c4d3ea_0.cpp\n",
      "/usr/bin/clang++ -bundle -undefined dynamic_lookup -L/opt/local/lib -Wl,-headerpad_max_install_names -L/opt/local/lib/db48 /var/folders/k_/ttz9cd4d3kj2kbh3lvtn6tkm0000gn/T/hopeDXfz9_/fib_181039868ed022600dc3388e38604df736dff187257d5d6ae4c4d3ea_0.o -o /var/folders/k_/ttz9cd4d3kj2kbh3lvtn6tkm0000gn/T/hopeDXfz9_/fib_181039868ed022600dc3388e38604df736dff187257d5d6ae4c4d3ea_0.so\n",
      "\n"
     ]
    }
   ],
   "source": [
    "def fib(n):\n",
    "    if n<2:\n",
    "        return n\n",
    "    return fib(n-1)+fib(n-2)\n",
    "hope_fib = hope.jit(fib)\n",
    "numba_fib = numba.jit(fib, nopython=False)\n",
    "\n",
    "native_fib_mod = load(\"fib\")\n",
    "native_fib = native_fib_mod.run \n",
    "\n",
    "n=20\n",
    "assert fib(20) == 6765\n",
    "assert hope_fib(20) == 6765\n",
    "assert numba_fib(20) == 6765\n",
    "assert native_fib(20) == 6765"
   ]
  },
  {
   "cell_type": "code",
   "execution_count": 3,
   "metadata": {},
   "outputs": [
    {
     "name": "stdout",
     "output_type": "stream",
     "text": [
      "building '_cython_magic_d4ac66e2963d3320a31dcc65e2809bf2' extension\n",
      "C compiler: /usr/bin/clang -fno-strict-aliasing -fno-common -dynamic -pipe -Os -fwrapv -DNDEBUG -g -fwrapv -O3 -Wall -Wstrict-prototypes\n",
      "\n",
      "compile options: '-I/opt/local/Library/Frameworks/Python.framework/Versions/2.7/include/python2.7 -c'\n",
      "clang: /Users/jakeret/.ipython/cython/_cython_magic_d4ac66e2963d3320a31dcc65e2809bf2.c\n",
      "/usr/bin/clang -bundle -undefined dynamic_lookup -L/opt/local/lib -Wl,-headerpad_max_install_names -L/opt/local/lib/db48 /Users/jakeret/.ipython/cython/Users/jakeret/.ipython/cython/_cython_magic_d4ac66e2963d3320a31dcc65e2809bf2.o -o /Users/jakeret/.ipython/cython/_cython_magic_d4ac66e2963d3320a31dcc65e2809bf2.so\n"
     ]
    }
   ],
   "source": [
    "%%cython\n",
    "\n",
    "cimport cython\n",
    "\n",
    "@cython.boundscheck(False)\n",
    "@cython.wraparound(False)\n",
    "cpdef int cython_fib(int n):\n",
    "    if n<2:\n",
    "        return n\n",
    "    return cython_fib(n-1)+cython_fib(n-2)\n",
    "\n",
    "assert cython_fib(20) == 6765\n"
   ]
  },
  {
   "cell_type": "code",
   "execution_count": 4,
   "metadata": {},
   "outputs": [
    {
     "name": "stdout",
     "output_type": "stream",
     "text": [
      "100 loops, best of 3: 2.59 ms per loop\n",
      "10000 loops, best of 3: 40.6 µs per loop\n",
      "100 loops, best of 3: 2.55 ms per loop\n",
      "10000 loops, best of 3: 42.5 µs per loop\n",
      "10000 loops, best of 3: 41.4 µs per loop\n"
     ]
    }
   ],
   "source": [
    "%timeit fib(20)\n",
    "%timeit hope_fib(20)\n",
    "%timeit numba_fib(20)\n",
    "%timeit cython_fib(20)\n",
    "%timeit native_fib(20)"
   ]
  },
  {
   "cell_type": "code",
   "execution_count": 7,
   "metadata": {},
   "outputs": [
    {
     "name": "stdout",
     "output_type": "stream",
     "text": [
      "function: native_fib          , av. time sec:   0.00003982, min. time sec:   0.00003886, relative:       1.0\n",
      "function: hope_fib            , av. time sec:   0.00004315, min. time sec:   0.00003815, relative:       1.1\n",
      "function: cython_fib          , av. time sec:   0.00004911, min. time sec:   0.00004101, relative:       1.2\n",
      "function: numba_fib           , av. time sec:   0.00260401, min. time sec:   0.00255513, relative:      65.4\n",
      "function: fib                 , av. time sec:   0.00291204, min. time sec:   0.00247192, relative:      73.1\n"
     ]
    }
   ],
   "source": [
    "perf_comp_data([\"fib\", \"hope_fib\", \"numba_fib\", \"cython_fib\", \"native_fib\"],\n",
    "               5*[\"n\"])"
   ]
  },
  {
   "cell_type": "markdown",
   "metadata": {},
   "source": [
    "# quicksort"
   ]
  },
  {
   "cell_type": "code",
   "execution_count": 8,
   "metadata": {},
   "outputs": [
    {
     "name": "stdout",
     "output_type": "stream",
     "text": [
      "running build_ext\n",
      "building 'qsort_kernel' extension\n",
      "C compiler: /usr/bin/clang -fno-strict-aliasing -fno-common -dynamic -pipe -Os -fwrapv -DNDEBUG -g -fwrapv -O3 -Wall -Wstrict-prototypes\n",
      "\n",
      "compile options: '-I/Users/jakeret/Library/Python/2.7/lib/python/site-packages/numpy/core/include -I/opt/local/Library/Frameworks/Python.framework/Versions/2.7/include/python2.7 -c'\n",
      "extra options: '-Wall -Wno-unused-variable -march=native -stdlib=libc++ -std=c++11'\n",
      "clang: ././src/qsort_kernel.cpp\n",
      "/usr/bin/clang++ -bundle -undefined dynamic_lookup -L/opt/local/lib -Wl,-headerpad_max_install_names -L/opt/local/lib/db46 ./src/qsort_kernel.o -o ./qsort_kernel.so\n",
      "\n"
     ]
    }
   ],
   "source": [
    "def qsort_kernel(a, lo, hi):\n",
    "    i = lo\n",
    "    j = hi\n",
    "    if False: return a\n",
    "    while i < hi:\n",
    "        pivot = a[(lo+hi) // 2]\n",
    "        while i <= j:\n",
    "            while a[i] < pivot:\n",
    "                i += 1\n",
    "            while a[j] > pivot:\n",
    "                j -= 1\n",
    "            if i <= j:\n",
    "                tmp = a[i]\n",
    "                a[i] = a[j]\n",
    "                a[j] = tmp\n",
    "                i += 1\n",
    "                j -= 1\n",
    "        if lo < j:\n",
    "            qsort_kernel(a, lo, j)\n",
    "        lo = i\n",
    "        j = hi\n",
    "    return a\n",
    "\n",
    "hope_qsort_kernel = hope.jit(qsort_kernel)\n",
    "numba_qsort_kernel = numba.jit(qsort_kernel)\n",
    "\n",
    "native_qsort_kernel_mod = load(\"qsort_kernel\")\n",
    "native_qsort_kernel = native_qsort_kernel_mod.run\n"
   ]
  },
  {
   "cell_type": "code",
   "execution_count": 16,
   "metadata": {},
   "outputs": [],
   "source": [
    "def numpy_qsort_kernel(a, lo, hi):\n",
    "    np.sort(a)"
   ]
  },
  {
   "cell_type": "code",
   "execution_count": 17,
   "metadata": {},
   "outputs": [],
   "source": [
    "%%cython\n",
    "\n",
    "cimport cython\n",
    "import numpy as np\n",
    "cimport numpy as np\n",
    "\n",
    "@cython.boundscheck(False)\n",
    "@cython.wraparound(False)\n",
    "def cython_qsort_kernel(np.ndarray[np.double_t, ndim=1] a, int lo, int hi):\n",
    "    cdef int i = lo\n",
    "    cdef int j = hi\n",
    "    cdef double pivot = 0\n",
    "    cdef double tmp = 0.0\n",
    "    if False: return a\n",
    "    while i < hi:\n",
    "        pivot = a[(lo+hi) // 2]\n",
    "        while i <= j:\n",
    "            while a[i] < pivot:\n",
    "                i += 1\n",
    "            while a[j] > pivot:\n",
    "                j -= 1\n",
    "            if i <= j:\n",
    "                tmp = a[i]\n",
    "                a[i] = a[j]\n",
    "                a[j] = tmp\n",
    "                i += 1\n",
    "                j -= 1\n",
    "        if lo < j:\n",
    "            cython_qsort_kernel(a, lo, j)\n",
    "        lo = i\n",
    "        j = hi\n",
    "    return a\n",
    "\n"
   ]
  },
  {
   "cell_type": "code",
   "execution_count": 18,
   "metadata": {},
   "outputs": [],
   "source": [
    "lst = np.random.random(5000)\n"
   ]
  },
  {
   "cell_type": "code",
   "execution_count": 19,
   "metadata": {},
   "outputs": [],
   "source": [
    "psorted = qsort_kernel(lst.copy(), 0, len(lst)-1)\n",
    "hsorted = hope_qsort_kernel(lst.copy(), 0, len(lst)-1)\n",
    "#nsorted = numba_qsort_kernel(lst.copy(), 0, len(lst)-1)\n",
    "csorted = cython_qsort_kernel(lst.copy(), 0, len(lst)-1)\n",
    "nasorted = native_qsort_kernel(lst.copy(), 0, len(lst)-1)\n"
   ]
  },
  {
   "cell_type": "code",
   "execution_count": 20,
   "metadata": {},
   "outputs": [
    {
     "name": "stdout",
     "output_type": "stream",
     "text": [
      "10 loops, best of 3: 22.4 ms per loop\n",
      "1000 loops, best of 3: 334 µs per loop\n",
      "1000 loops, best of 3: 1.4 ms per loop\n",
      "1000 loops, best of 3: 303 µs per loop\n",
      "1000 loops, best of 3: 248 µs per loop\n"
     ]
    }
   ],
   "source": [
    "assert np.all(psorted[:-1] <= psorted[1:])\n",
    "#assert np.all(hope_qsort_kernel[:-1] <= hope_qsort_kernel[1:])\n",
    "#assert np.all(numba_qsort_kernel[:-1] <= numba_qsort_kernel[1:])\n",
    "#assert np.all(cython_qsort_kernel[:-1] <= cython_qsort_kernel[1:])\n",
    "\n",
    "%timeit qsort_kernel(lst.copy(), 0, len(lst)-1)\n",
    "%timeit hope_qsort_kernel(lst.copy(), 0, len(lst)-1)\n",
    "#%timeit numba_qsort_kernel(lst.copy(), 0, len(lst)-1)\n",
    "%timeit cython_qsort_kernel(lst.copy(), 0, len(lst)-1)\n",
    "%timeit native_qsort_kernel(lst.copy(), 0, len(lst)-1)\n",
    "%timeit np.sort(lst.copy())"
   ]
  },
  {
   "cell_type": "code",
   "execution_count": 21,
   "metadata": {},
   "outputs": [
    {
     "name": "stdout",
     "output_type": "stream",
     "text": [
      "function: native_qsort_kernel , av. time sec:   0.00029302, min. time sec:   0.00029182, relative:       1.0\n",
      "function: hope_qsort_kernel   , av. time sec:   0.00033617, min. time sec:   0.00033379, relative:       1.1\n",
      "function: cython_qsort_kernel , av. time sec:   0.00143504, min. time sec:   0.00140619, relative:       4.9\n",
      "function: qsort_kernel        , av. time sec:   0.02197444, min. time sec:   0.02172208, relative:      75.0\n"
     ]
    }
   ],
   "source": [
    "a = lst.copy()\n",
    "\n",
    "lo = 0\n",
    "hi = len(lst)-1\n",
    "\n",
    "perf_comp_data([\"hope_qsort_kernel\", \n",
    "                \"qsort_kernel\", \n",
    "                #\"numpy_qsort_kernel\", \n",
    "                \"cython_qsort_kernel\", \n",
    "                \"native_qsort_kernel\"],\n",
    "               5*[\"a, lo, hi\"], rep=100, extra_setup=\"from __main__ import lst;a = lst.copy()\")"
   ]
  },
  {
   "cell_type": "markdown",
   "metadata": {},
   "source": [
    "# pi sum"
   ]
  },
  {
   "cell_type": "code",
   "execution_count": 23,
   "metadata": {},
   "outputs": [
    {
     "name": "stdout",
     "output_type": "stream",
     "text": [
      "running build_ext\n",
      "building 'pisum' extension\n",
      "C compiler: /usr/bin/clang -fno-strict-aliasing -fno-common -dynamic -pipe -Os -fwrapv -DNDEBUG -g -fwrapv -O3 -Wall -Wstrict-prototypes\n",
      "\n",
      "compile options: '-I/Users/jakeret/Library/Python/2.7/lib/python/site-packages/numpy/core/include -I/opt/local/Library/Frameworks/Python.framework/Versions/2.7/include/python2.7 -c'\n",
      "extra options: '-Wall -Wno-unused-variable -march=native -stdlib=libc++ -std=c++11'\n",
      "clang: ././src/pisum.cpp\n",
      "/usr/bin/clang++ -bundle -undefined dynamic_lookup -L/opt/local/lib -Wl,-headerpad_max_install_names -L/opt/local/lib/db46 ./src/pisum.o -o ./pisum.so\n",
      "\n",
      "running build_ext\n",
      "building 'pisum_opt' extension\n",
      "C compiler: /usr/bin/clang -fno-strict-aliasing -fno-common -dynamic -pipe -Os -fwrapv -DNDEBUG -g -fwrapv -O3 -Wall -Wstrict-prototypes\n",
      "\n",
      "compile options: '-I/Users/jakeret/Library/Python/2.7/lib/python/site-packages/numpy/core/include -I/opt/local/Library/Frameworks/Python.framework/Versions/2.7/include/python2.7 -c'\n",
      "extra options: '-Wall -Wno-unused-variable -march=native -stdlib=libc++ -std=c++11'\n",
      "clang: ././src/pisum_opt.cpp\n",
      "/usr/bin/clang++ -bundle -undefined dynamic_lookup -L/opt/local/lib -Wl,-headerpad_max_install_names -L/opt/local/lib/db46 ./src/pisum_opt.o -o ./pisum_opt.so\n",
      "\n"
     ]
    }
   ],
   "source": [
    "def pisum():\n",
    "    for j in range(1, 501):\n",
    "        sum = 0.0\n",
    "        f = 0.0\n",
    "        for k in range(1, 10001):\n",
    "            sum += 1.0/(k*k)\n",
    "    return sum\n",
    "def pisum_opt():\n",
    "    for j in range(1, 501):\n",
    "        sum = 0.0\n",
    "        f = 0.0\n",
    "        for k in range(1, 10001):\n",
    "            f += 1.\n",
    "            sum += 1.0/(f*f)\n",
    "    return sum\n",
    "\n",
    "hope_pisum = hope.jit(pisum)\n",
    "hope_pisum_opt = hope.jit(pisum_opt)\n",
    "\n",
    "numba_pisum = numba.jit(pisum, nopython=True)\n",
    "numba_pisum_opt = numba.jit(pisum_opt, nopython=True)\n",
    "\n",
    "native_pisum_mod = load(\"pisum\")\n",
    "native_pisum = native_pisum_mod.run\n",
    "\n",
    "native_pisum_opt_mod = load(\"pisum_opt\")\n",
    "native_pisum_opt = native_pisum_opt_mod.run\n",
    "\n",
    "\n",
    "assert abs(pisum()-1.644834071848065) < 1e-6\n",
    "assert abs(hope_pisum()-1.644834071848065) < 1e-6\n",
    "assert abs(hope_pisum_opt()-1.644834071848065) < 1e-6\n",
    "assert abs(numba_pisum()-1.644834071848065) < 1e-6\n",
    "assert abs(native_pisum()-1.644834071848065) < 1e-6\n",
    "assert abs(native_pisum_opt()-1.644834071848065) < 1e-6\n"
   ]
  },
  {
   "cell_type": "code",
   "execution_count": 24,
   "metadata": {},
   "outputs": [
    {
     "name": "stdout",
     "output_type": "stream",
     "text": [
      "The cythonmagic extension is already loaded. To reload it, use:\n",
      "  %reload_ext cythonmagic\n"
     ]
    }
   ],
   "source": [
    "%load_ext cythonmagic\n"
   ]
  },
  {
   "cell_type": "code",
   "execution_count": 25,
   "metadata": {},
   "outputs": [],
   "source": [
    "%%cython\n",
    "\n",
    "cimport cython\n",
    "\n",
    "@cython.boundscheck(False)\n",
    "@cython.wraparound(False)\n",
    "@cython.locals(f=float)\n",
    "def cython_pisum():\n",
    "    cdef double sum = 0.0\n",
    "    for j in range(1, 501):\n",
    "        sum = 0.0\n",
    "        f = 0.0\n",
    "        for k in range(1, 10001):\n",
    "            sum += 1.0/(k*k)\n",
    "    return sum\n",
    "\n",
    "@cython.boundscheck(False)\n",
    "@cython.wraparound(False)\n",
    "@cython.locals(f=float)\n",
    "def cython_pisum_opt():\n",
    "    cdef double sum = 0.0\n",
    "    for j in range(1, 501):\n",
    "        sum = 0.0\n",
    "        f = 0.0\n",
    "        for k in range(1, 10001):\n",
    "            f += 1.\n",
    "            sum += 1.0/(f*f)\n",
    "    return sum\n",
    "\n",
    "\n",
    "assert abs(cython_pisum()-1.644834071848065) < 1e-6\n",
    "assert abs(cython_pisum_opt()-1.644834071848065) < 1e-6"
   ]
  },
  {
   "cell_type": "code",
   "execution_count": 26,
   "metadata": {},
   "outputs": [
    {
     "name": "stdout",
     "output_type": "stream",
     "text": [
      "1 loops, best of 3: 493 ms per loop\n",
      "1 loops, best of 3: 641 ms per loop\n",
      "10 loops, best of 3: 21.4 ms per loop\n",
      "10 loops, best of 3: 21.6 ms per loop\n",
      "10 loops, best of 3: 40.8 ms per loop\n",
      "10 loops, best of 3: 21.8 ms per loop\n",
      "1 loops, best of 3: 284 ms per loop\n",
      "10 loops, best of 3: 21.1 ms per loop\n",
      "10 loops, best of 3: 21.1 ms per loop\n",
      "10 loops, best of 3: 21.3 ms per loop\n"
     ]
    }
   ],
   "source": [
    "%timeit pisum()\n",
    "%timeit pisum_opt()\n",
    "%timeit hope_pisum()\n",
    "%timeit hope_pisum_opt()\n",
    "%timeit numba_pisum()\n",
    "%timeit numba_pisum_opt()\n",
    "%timeit cython_pisum()\n",
    "%timeit cython_pisum_opt()\n",
    "%timeit native_pisum()\n",
    "%timeit native_pisum_opt()"
   ]
  },
  {
   "cell_type": "code",
   "execution_count": 27,
   "metadata": {},
   "outputs": [
    {
     "name": "stdout",
     "output_type": "stream",
     "text": [
      "function: cython_pisum_opt    , av. time sec:   0.02122343, min. time sec:   0.02094698, relative:       1.0\n",
      "function: native_pisum_opt    , av. time sec:   0.02158451, min. time sec:   0.02108502, relative:       1.0\n",
      "function: native_pisum        , av. time sec:   0.02167845, min. time sec:   0.02090883, relative:       1.0\n",
      "function: numba_pisum_opt     , av. time sec:   0.02173293, min. time sec:   0.02095199, relative:       1.0\n",
      "function: hope_pisum_opt      , av. time sec:   0.02241504, min. time sec:   0.02135611, relative:       1.1\n",
      "function: hope_pisum          , av. time sec:   0.02270293, min. time sec:   0.02136111, relative:       1.1\n",
      "function: numba_pisum         , av. time sec:   0.04188490, min. time sec:   0.04017806, relative:       2.0\n",
      "function: pisum               , av. time sec:   0.49351048, min. time sec:   0.48015594, relative:      23.3\n",
      "function: pisum_opt           , av. time sec:   0.64186037, min. time sec:   0.61331892, relative:      30.2\n"
     ]
    }
   ],
   "source": [
    "perf_comp_data([\"pisum\", \"pisum_opt\", \n",
    "                \"hope_pisum\", \"hope_pisum_opt\", \n",
    "                \"numba_pisum\", \"numba_pisum_opt\", \n",
    "                #\"cython_pisum\", \n",
    "                \"cython_pisum_opt\",\n",
    "                \"native_pisum\", \"native_pisum_opt\",], \n",
    "               None, rep=100)"
   ]
  },
  {
   "cell_type": "code",
   "execution_count": 17,
   "metadata": {},
   "outputs": [],
   "source": []
  }
 ],
 "metadata": {
  "kernelspec": {
   "display_name": "Python 3",
   "language": "python",
   "name": "python3"
  },
  "language_info": {
   "codemirror_mode": {
    "name": "ipython",
    "version": 3
   },
   "file_extension": ".py",
   "mimetype": "text/x-python",
   "name": "python",
   "nbconvert_exporter": "python",
   "pygments_lexer": "ipython3",
   "version": "3.5.1"
  }
 },
 "nbformat": 4,
 "nbformat_minor": 1
}
