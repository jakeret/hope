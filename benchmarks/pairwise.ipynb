{
 "cells": [
  {
   "cell_type": "code",
   "execution_count": 2,
   "metadata": {},
   "outputs": [
    {
     "data": {
      "application/json": {
       "Software versions": [
        {
         "module": "Python",
         "version": "3.5.1 64bit [GCC 4.2.1 (Apple Inc. build 5666) (dot 3)]"
        },
        {
         "module": "IPython",
         "version": "6.1.0"
        },
        {
         "module": "OS",
         "version": "Darwin 15.6.0 x86_64 i386 64bit"
        },
        {
         "module": "numpy",
         "version": "1.13.1"
        },
        {
         "module": "Cython",
         "version": "0.26"
        },
        {
         "module": "numba",
         "version": "0.34.0"
        },
        {
         "module": "hope",
         "version": "0.6.1"
        }
       ]
      },
      "text/html": [
       "<table><tr><th>Software</th><th>Version</th></tr><tr><td>Python</td><td>3.5.1 64bit [GCC 4.2.1 (Apple Inc. build 5666) (dot 3)]</td></tr><tr><td>IPython</td><td>6.1.0</td></tr><tr><td>OS</td><td>Darwin 15.6.0 x86_64 i386 64bit</td></tr><tr><td>numpy</td><td>1.13.1</td></tr><tr><td>Cython</td><td>0.26</td></tr><tr><td>numba</td><td>0.34.0</td></tr><tr><td>hope</td><td>0.6.1</td></tr><tr><td colspan='2'>Mon Sep 04 15:15:37 2017 CEST</td></tr></table>"
      ],
      "text/latex": [
       "\\begin{tabular}{|l|l|}\\hline\n",
       "{\\bf Software} & {\\bf Version} \\\\ \\hline\\hline\n",
       "Python & 3.5.1 64bit [GCC 4.2.1 (Apple Inc. build 5666) (dot 3)] \\\\ \\hline\n",
       "IPython & 6.1.0 \\\\ \\hline\n",
       "OS & Darwin 15.6.0 x86\\_64 i386 64bit \\\\ \\hline\n",
       "numpy & 1.13.1 \\\\ \\hline\n",
       "Cython & 0.26 \\\\ \\hline\n",
       "numba & 0.34.0 \\\\ \\hline\n",
       "hope & 0.6.1 \\\\ \\hline\n",
       "\\hline \\multicolumn{2}{|l|}{Mon Sep 04 15:15:37 2017 CEST} \\\\ \\hline\n",
       "\\end{tabular}\n"
      ],
      "text/plain": [
       "Software versions\n",
       "Python 3.5.1 64bit [GCC 4.2.1 (Apple Inc. build 5666) (dot 3)]\n",
       "IPython 6.1.0\n",
       "OS Darwin 15.6.0 x86_64 i386 64bit\n",
       "numpy 1.13.1\n",
       "Cython 0.26\n",
       "numba 0.34.0\n",
       "hope 0.6.1\n",
       "Mon Sep 04 15:15:37 2017 CEST"
      ]
     },
     "execution_count": 2,
     "metadata": {},
     "output_type": "execute_result"
    }
   ],
   "source": [
    "import hope\n",
    "hope.config.optimize = True\n",
    "hope.config.verbose = True\n",
    "hope.config.keeptemp = True\n",
    "import numba\n",
    "import numpy as np\n",
    "from util import perf_comp_data\n",
    "from native_util import load\n",
    "%load_ext Cython\n",
    "%load_ext version_information\n",
    "%version_information numpy, Cython, numba, hope"
   ]
  },
  {
   "cell_type": "code",
   "execution_count": 3,
   "metadata": {
    "collapsed": true
   },
   "outputs": [],
   "source": [
    "# Pure python version\n",
    "\n",
    "def pairwise_python(X, D):\n",
    "    M = X.shape[0]\n",
    "    N = X.shape[1]\n",
    "    for i in range(M):\n",
    "        for j in range(M):\n",
    "            d = 0.0\n",
    "            for k in range(N):\n",
    "                tmp = X[i, k] - X[j, k]\n",
    "                d += tmp * tmp\n",
    "            D[i, j] = np.sqrt(d)"
   ]
  },
  {
   "cell_type": "code",
   "execution_count": 4,
   "metadata": {
    "collapsed": true
   },
   "outputs": [],
   "source": [
    "# Numpy python version\n",
    "\n",
    "def pairwise_numpy(X, D):\n",
    "    M = X.shape[0]\n",
    "    for i in range(M):\n",
    "        D[i, :] = np.sqrt(np.sum((X[i, :] - X[:]) ** 2, axis=1))"
   ]
  },
  {
   "cell_type": "code",
   "execution_count": 5,
   "metadata": {
    "collapsed": true
   },
   "outputs": [],
   "source": [
    "# numba version\n",
    "@numba.jit(nopython=True)\n",
    "def pairwise_numba(X, D):\n",
    "    M = X.shape[0]\n",
    "    N = X.shape[1]\n",
    "    for i in range(M):\n",
    "        for j in range(M):\n",
    "            d = 0.0\n",
    "            for k in range(N):\n",
    "                tmp = X[i, k] - X[j, k]\n",
    "                d += tmp * tmp\n",
    "            D[i, j] = np.sqrt(d)"
   ]
  },
  {
   "cell_type": "code",
   "execution_count": 6,
   "metadata": {},
   "outputs": [],
   "source": [
    "%%cython\n",
    "\n",
    "cimport cython\n",
    "from libc.math cimport sqrt\n",
    "\n",
    "@cython.boundscheck(False)\n",
    "@cython.wraparound(False)\n",
    "def pairwise_cython(double[:, ::1] X, double[:, ::1] D):\n",
    "    cdef size_t M = X.shape[0]\n",
    "    cdef size_t N = X.shape[1]\n",
    "    cdef double tmp, d\n",
    "    for i in range(M):\n",
    "        for j in range(M):\n",
    "            d = 0.0\n",
    "            for k in range(N):\n",
    "                tmp = X[i, k] - X[j, k]\n",
    "                d += tmp * tmp\n",
    "            D[i, j] = sqrt(d)"
   ]
  },
  {
   "cell_type": "code",
   "execution_count": 7,
   "metadata": {
    "collapsed": true
   },
   "outputs": [],
   "source": [
    "# hope version\n",
    "@hope.jit\n",
    "def pairwise_hope(X, D, M, N):\n",
    "    for i in range(M):\n",
    "        for j in range(M):\n",
    "            d = 0.0\n",
    "            for k in range(N):\n",
    "                tmp = X[i, k] - X[j, k]\n",
    "                d += tmp * tmp\n",
    "            D[i, j] = np.sqrt(d)\n"
   ]
  },
  {
   "cell_type": "code",
   "execution_count": 8,
   "metadata": {},
   "outputs": [
    {
     "name": "stdout",
     "output_type": "stream",
     "text": [
      "running build_ext\n",
      "\n"
     ]
    }
   ],
   "source": [
    "from native_util import load\n",
    "\n",
    "native_pairwise_mod = load(\"pairwise\")\n",
    "pairwise_native = native_pairwise_mod.run"
   ]
  },
  {
   "cell_type": "code",
   "execution_count": 9,
   "metadata": {
    "collapsed": true
   },
   "outputs": [],
   "source": [
    "X = np.random.random((1000, 3))\n",
    "D = np.empty((1000, 1000))"
   ]
  },
  {
   "cell_type": "code",
   "execution_count": 10,
   "metadata": {},
   "outputs": [
    {
     "name": "stdout",
     "output_type": "stream",
     "text": [
      "pairwise_hope(float64^2 X, float64^2 D, int64 M, int64 N)\n",
      "\tfor i.l in (0.J:M.J) {\n",
      "\t\tfor j.l in (0.J:M.J) {\n",
      "\t\t\tnew d.D\n",
      "\t\t\td.D = 0.0.D\n",
      "\t\t\tfor k.l in (0.J:N.J) {\n",
      "\t\t\t\tnew tmp.d\n",
      "\t\t\t\ttmp.d = (X.d[i.l, k.l] - X.d[j.l, k.l])\n",
      "\t\t\t\td.D += (tmp.d * tmp.d)\n",
      "\t\t\t}\n",
      "\t\t\tD.d[i.l, j.l] = numpy.sqrt(d.D)\n",
      "\t\t}\n",
      "\t}\n",
      "\n",
      "Compiling following functions:\n",
      "pairwise_hope(float64^2 X, float64^2 D, int64 M, int64 N)\n",
      "running build_ext\n",
      "building 'pairwise_hope_f82cb8a6ea3aecbde9f728fa85088b51f5bdf7d8ef8b740b9c0b788a_0' extension\n",
      "C compiler: /usr/bin/clang -fno-strict-aliasing -Wsign-compare -Wunreachable-code -fno-common -dynamic -DNDEBUG -g -fwrapv -O3 -Wall -arch i386 -arch x86_64 -g\n",
      "\n",
      "compile options: '-I/Users/uweschmitt/Projects/hope/venv3/lib/python3.5/site-packages/numpy/core/include -I/Users/uweschmitt/Projects/hope/venv3/include -I/Library/Frameworks/Python.framework/Versions/3.5/include/python3.5m -c'\n",
      "extra options: '-Wall -Wno-unused-variable -march=native -stdlib=libc++ -std=c++11 -Wno-unreachable-code'\n",
      "clang: /var/folders/k8/zfp7dvcs1m326gz1brql1tv80000gn/T/hope6c1ewncq/pairwise_hope_f82cb8a6ea3aecbde9f728fa85088b51f5bdf7d8ef8b740b9c0b788a_0.cpp\n",
      "/usr/bin/clang++ -bundle -undefined dynamic_lookup -arch i386 -arch x86_64 -g /var/folders/k8/zfp7dvcs1m326gz1brql1tv80000gn/T/hope6c1ewncq/pairwise_hope_f82cb8a6ea3aecbde9f728fa85088b51f5bdf7d8ef8b740b9c0b788a_0.o -o /var/folders/k8/zfp7dvcs1m326gz1brql1tv80000gn/T/hope6c1ewncq/pairwise_hope_f82cb8a6ea3aecbde9f728fa85088b51f5bdf7d8ef8b740b9c0b788a_0.cpython-35m-darwin.so\n",
      "\n"
     ]
    }
   ],
   "source": [
    "D1 = np.empty((1000, 1000))\n",
    "D2 = np.empty((1000, 1000))\n",
    "D3 = np.empty((1000, 1000))\n",
    "D4 = np.empty((1000, 1000))\n",
    "D5 = np.empty((1000, 1000))\n",
    "D6 = np.empty((1000, 1000))\n",
    "\n",
    "pairwise_python(X, D1)\n",
    "pairwise_numpy(X, D2)\n",
    "pairwise_numba(X, D3)\n",
    "pairwise_cython(X, D4)\n",
    "pairwise_hope(X, D5, X.shape[0], X.shape[1])\n",
    "pairwise_native(X, D6, X.shape[0], X.shape[1])\n",
    "\n",
    "assert np.allclose(D1, D2)\n",
    "assert np.allclose(D1, D3)\n",
    "assert np.allclose(D1, D4)\n",
    "assert np.allclose(D1, D5)\n",
    "assert np.allclose(D1, D6)\n"
   ]
  },
  {
   "cell_type": "code",
   "execution_count": 12,
   "metadata": {},
   "outputs": [
    {
     "name": "stdout",
     "output_type": "stream",
     "text": [
      "naive python\n",
      "3.99 s ± 64.9 ms per loop (mean ± std. dev. of 7 runs, 1 loop each)\n",
      "numpy\n",
      "42 ms ± 1.26 ms per loop (mean ± std. dev. of 7 runs, 10 loops each)\n",
      "numba\n",
      "4.63 ms ± 131 µs per loop (mean ± std. dev. of 7 runs, 100 loops each)\n",
      "cython\n",
      "4.75 ms ± 82.7 µs per loop (mean ± std. dev. of 7 runs, 100 loops each)\n",
      "hope\n",
      "6.02 ms ± 117 µs per loop (mean ± std. dev. of 7 runs, 100 loops each)\n",
      "native\n",
      "4.72 ms ± 107 µs per loop (mean ± std. dev. of 7 runs, 100 loops each)\n"
     ]
    }
   ],
   "source": [
    "print(\"naive python\")\n",
    "%timeit pairwise_python(X, D)\n",
    "print(\"numpy\")\n",
    "%timeit pairwise_numpy(X, D)\n",
    "print(\"numba\")\n",
    "%timeit pairwise_numba(X, D)\n",
    "print(\"cython\")\n",
    "%timeit pairwise_cython(X, D)\n",
    "print(\"hope\")\n",
    "%timeit pairwise_hope(X, D, X.shape[0], X.shape[1])\n",
    "print(\"native\")\n",
    "%timeit pairwise_native(X, D, X.shape[0], X.shape[1])"
   ]
  },
  {
   "cell_type": "code",
   "execution_count": 13,
   "metadata": {
    "collapsed": true
   },
   "outputs": [],
   "source": [
    "from util import perf_comp_data"
   ]
  },
  {
   "cell_type": "code",
   "execution_count": 14,
   "metadata": {},
   "outputs": [
    {
     "name": "stdout",
     "output_type": "stream",
     "text": [
      "function: pairwise_numba      , av. time sec:   0.00433872, min. time sec:   0.00417360, relative:       1.0\n",
      "function: pairwise_cython     , av. time sec:   0.00436183, min. time sec:   0.00415240, relative:       1.0\n",
      "function: pairwise_native     , av. time sec:   0.00436626, min. time sec:   0.00414733, relative:       1.0\n",
      "function: pairwise_hope       , av. time sec:   0.00550070, min. time sec:   0.00512893, relative:       1.3\n",
      "function: pairwise_numpy      , av. time sec:   0.03921036, min. time sec:   0.03764664, relative:       9.0\n",
      "function: pairwise_python     , av. time sec:   4.04625443, min. time sec:   3.89136448, relative:     932.6\n"
     ]
    }
   ],
   "source": [
    "M, N = X.shape\n",
    "data_list = 4*[\"X, D\"]+ 2*[\"X, D, M, N\"]\n",
    "#print data_list\n",
    "perf_comp_data([\"pairwise_python\", \n",
    "                \"pairwise_numpy\", \n",
    "                \"pairwise_numba\", \n",
    "                \"pairwise_cython\", \n",
    "                \"pairwise_hope\",\n",
    "                \"pairwise_native\"],\n",
    "               data_list, rep=100)"
   ]
  }
 ],
 "metadata": {
  "kernelspec": {
   "display_name": "Python 3",
   "language": "python",
   "name": "python3"
  },
  "language_info": {
   "codemirror_mode": {
    "name": "ipython",
    "version": 3
   },
   "file_extension": ".py",
   "mimetype": "text/x-python",
   "name": "python",
   "nbconvert_exporter": "python",
   "pygments_lexer": "ipython3",
   "version": "3.5.1"
  }
 },
 "nbformat": 4,
 "nbformat_minor": 1
}
