{
 "cells": [
  {
   "cell_type": "code",
   "execution_count": 1,
   "metadata": {},
   "outputs": [
    {
     "data": {
      "application/json": {
       "Software versions": [
        {
         "module": "Python",
         "version": "2.7.8 (default, Jul 13 2014, 17:11:32) [GCC 4.2.1 Compatible Apple LLVM 5.1 (clang-503.0.40)]"
        },
        {
         "module": "IPython",
         "version": "1.1.0"
        },
        {
         "module": "OS",
         "version": "posix [darwin]"
        },
        {
         "module": "numpy",
         "version": "1.8.1"
        },
        {
         "module": "Cython",
         "version": "0.20.2"
        },
        {
         "module": "numba",
         "version": "0.13.3"
        },
        {
         "module": "hope",
         "version": "0.3.0"
        },
        {
         "module": "numexpr",
         "version": "2.4"
        }
       ]
      },
      "text/html": [
       "<table><tr><th>Software</th><th>Version</th></tr><tr><td>Python</td><td>2.7.8 (default, Jul 13 2014, 17:11:32) [GCC 4.2.1 Compatible Apple LLVM 5.1 (clang-503.0.40)]</td></tr><tr><td>IPython</td><td>1.1.0</td></tr><tr><td>OS</td><td>posix [darwin]</td></tr><tr><td>numpy</td><td>1.8.1</td></tr><tr><td>Cython</td><td>0.20.2</td></tr><tr><td>numba</td><td>0.13.3</td></tr><tr><td>hope</td><td>0.3.0</td></tr><tr><td>numexpr</td><td>2.4</td></tr><tr><td colspan='2'>Thu Sep 04 15:17:12 2014 CEST</td></tr></table>"
      ],
      "text/latex": [
       "\\begin{tabular}{|l|l|}\\hline\n",
       "{\\bf Software} & {\\bf Version} \\\\ \\hline\\hline\n",
       "Python & 2.7.8 (default, Jul 13 2014, 17:11:32) [GCC 4.2.1 Compatible Apple LLVM 5.1 (clang-503.0.40)] \\\\ \\hline\n",
       "IPython & 1.1.0 \\\\ \\hline\n",
       "OS & posix [darwin] \\\\ \\hline\n",
       "numpy & 1.8.1 \\\\ \\hline\n",
       "Cython & 0.20.2 \\\\ \\hline\n",
       "numba & 0.13.3 \\\\ \\hline\n",
       "hope & 0.3.0 \\\\ \\hline\n",
       "numexpr & 2.4 \\\\ \\hline\n",
       "\\hline \\multicolumn{2}{|l|}{Thu Sep 04 15:17:12 2014 CEST} \\\\ \\hline\n",
       "\\end{tabular}\n"
      ],
      "text/plain": [
       "Software versions\n",
       "Python 2.7.8 (default, Jul 13 2014, 17:11:32) [GCC 4.2.1 Compatible Apple LLVM 5.1 (clang-503.0.40)]\n",
       "IPython 1.1.0\n",
       "OS posix [darwin]\n",
       "numpy 1.8.1\n",
       "Cython 0.20.2\n",
       "numba 0.13.3\n",
       "hope 0.3.0\n",
       "numexpr 2.4\n",
       "<tr><td colspan='2'>Thu Sep 04 15:17:12 2014 CEST</td></tr>"
      ]
     },
     "execution_count": 1,
     "metadata": {},
     "output_type": "execute_result"
    }
   ],
   "source": [
    "import hope\n",
    "hope.config.optimize = True\n",
    "hope.config.verbose = True\n",
    "hope.config.keeptemp = True\n",
    "import numba\n",
    "import numpy as np\n",
    "import numexpr as ne\n",
    "\n",
    "from util import perf_comp_data\n",
    "from native_util import load\n",
    "%load_ext cythonmagic\n",
    "%load_ext version_information\n",
    "%version_information numpy, Cython, numba, hope, numexpr"
   ]
  },
  {
   "cell_type": "code",
   "execution_count": 2,
   "metadata": {},
   "outputs": [
    {
     "name": "stdout",
     "output_type": "stream",
     "text": [
      "running build_ext\n",
      "building 'poly' extension\n",
      "C compiler: /usr/bin/clang -fno-strict-aliasing -fno-common -dynamic -pipe -Os -fwrapv -DNDEBUG -g -fwrapv -O3 -Wall -Wstrict-prototypes\n",
      "\n",
      "compile options: '-I/Users/jakeret/Library/Python/2.7/lib/python/site-packages/numpy/core/include -I/opt/local/Library/Frameworks/Python.framework/Versions/2.7/include/python2.7 -c'\n",
      "extra options: '-Wall -Wno-unused-variable -march=native -stdlib=libc++ -std=c++11'\n",
      "clang: ././src/poly.cpp\n",
      "/usr/bin/clang++ -bundle -undefined dynamic_lookup -L/opt/local/lib -Wl,-headerpad_max_install_names -L/opt/local/lib/db46 ./src/poly.o -o ./poly.so\n",
      "\n"
     ]
    }
   ],
   "source": [
    "def poly(res, arg):\n",
    "    res[:] = np.sin(arg)**2 + (arg**3 + arg**2 - arg - 1)/(arg**2 + 2*arg + 1) + np.cos(arg)**2\n",
    "hope_poly = hope.jit(poly)\n",
    "numba_poly = numba.jit(poly, nopython=False)\n",
    "\n",
    "native_poly_mod = load(\"poly\")\n",
    "native_poly = native_poly_mod.run\n"
   ]
  },
  {
   "cell_type": "code",
   "execution_count": 3,
   "metadata": {},
   "outputs": [],
   "source": [
    "%%cython\n",
    "\n",
    "cimport cython\n",
    "from libc.math cimport sin\n",
    "from libc.math cimport cos\n",
    "from libc.math cimport pow\n",
    "\n",
    "@cython.boundscheck(False)\n",
    "@cython.wraparound(False)\n",
    "def cython_poly(double[:] res, double[:] arg):\n",
    "    for i in range(len(arg)):\n",
    "        i_arg = arg[i]\n",
    "        res[i] = pow(sin(i_arg),2) + (pow(i_arg,3) + pow(i_arg,2) - i_arg - 1)/(pow(i_arg,2) + 2*i_arg + 1) + pow(cos(i_arg),2)\n",
    "\n"
   ]
  },
  {
   "cell_type": "code",
   "execution_count": 4,
   "metadata": {},
   "outputs": [],
   "source": [
    "%%cython\n",
    "cimport cython\n",
    "import numpy as np\n",
    "cimport numpy as np\n",
    "\n",
    "@cython.boundscheck(False)\n",
    "@cython.wraparound(False)\n",
    "def cython_numpy_poly(np.ndarray[np.double_t, ndim=1] res, np.ndarray[np.double_t, ndim=1] arg):\n",
    "    res[:] = np.sin(arg)**2 + (arg**3 + arg**2 - arg - 1)/(arg**2 + 2*arg + 1) + np.cos(arg)**2\n"
   ]
  },
  {
   "cell_type": "code",
   "execution_count": 5,
   "metadata": {},
   "outputs": [],
   "source": [
    "# NumExpr version\n",
    "\n",
    "import numexpr as ne\n",
    "\n",
    "def numexpr_poly(res, arg):\n",
    "    res[:] = ne.evaluate(\"sin(arg)**2 + (arg**3 + arg**2 - arg - 1)/(arg**2 + 2*arg + 1) + cos(arg)**2\")\n"
   ]
  },
  {
   "cell_type": "code",
   "execution_count": 7,
   "metadata": {},
   "outputs": [],
   "source": [
    "arg = np.random.random(50000)\n",
    "res = np.empty_like(arg)\n",
    "\n",
    "res1 = np.empty_like(arg)\n",
    "res2 = np.empty_like(arg)\n",
    "res3 = np.empty_like(arg)\n",
    "res4 = np.empty_like(arg)\n",
    "res5 = np.empty_like(arg)\n",
    "\n",
    "poly(res1, arg)\n",
    "hope_poly(res2, arg)\n",
    "numba_poly(res3, arg)\n",
    "native_poly(res4, arg)\n",
    "numexpr_poly(res5, arg)\n",
    "\n",
    "assert np.allclose(res1, res2)\n",
    "assert np.allclose(res1, res3)\n",
    "assert np.allclose(res1, res4)\n",
    "assert np.allclose(res1, res5)\n"
   ]
  },
  {
   "cell_type": "code",
   "execution_count": 8,
   "metadata": {},
   "outputs": [
    {
     "name": "stdout",
     "output_type": "stream",
     "text": [
      "python\n",
      "100 loops, best of 3: 2.57 ms per loop\n",
      "hope\n",
      "10000 loops, best of 3: 29 µs per loop\n",
      "numba\n",
      "100 loops, best of 3: 2.66 ms per loop\n",
      "cython\n",
      "100 loops, best of 3: 9.97 ms per loop\n",
      "cython numpy\n",
      "100 loops, best of 3: 2.56 ms per loop\n",
      "native\n",
      "100 loops, best of 3: 2.06 ms per loop\n",
      "numexpr (1)\n",
      "1000 loops, best of 3: 1.33 ms per loop\n",
      "numexpr (8)\n",
      "1000 loops, best of 3: 550 µs per loop\n"
     ]
    }
   ],
   "source": [
    "print \"python\"\n",
    "%timeit poly(res, arg)\n",
    "print \"hope\"\n",
    "%timeit hope_poly(res, arg)\n",
    "print \"numba\"\n",
    "%timeit numba_poly(res, arg)\n",
    "print \"cython\"\n",
    "%timeit cython_poly(res, arg)\n",
    "print \"cython numpy\"\n",
    "%timeit cython_numpy_poly(res, arg)\n",
    "print \"native\"\n",
    "%timeit native_poly(res, arg)\n",
    "print \"numexpr (1)\"\n",
    "ne.set_num_threads(1)\n",
    "%timeit numexpr_poly(res, arg)\n",
    "print \"numexpr ({0})\".format(ne.detect_number_of_cores())\n",
    "ne.set_num_threads(ne.detect_number_of_cores())\n",
    "%timeit numexpr_poly(res, arg)\n",
    "\n"
   ]
  },
  {
   "cell_type": "code",
   "execution_count": 9,
   "metadata": {},
   "outputs": [
    {
     "name": "stdout",
     "output_type": "stream",
     "text": [
      "function: hope_poly           , av. time sec:   0.00002789, min. time sec:   0.00002694, relative:       1.0\n",
      "function: numexpr_poly        , av. time sec:   0.00054300, min. time sec:   0.00048995, relative:      19.5\n",
      "function: native_poly         , av. time sec:   0.00204802, min. time sec:   0.00201893, relative:      73.4\n",
      "function: cython_numpy_poly   , av. time sec:   0.00257111, min. time sec:   0.00251794, relative:      92.2\n",
      "function: poly                , av. time sec:   0.00260139, min. time sec:   0.00251603, relative:      93.3\n",
      "function: numba_poly          , av. time sec:   0.00272107, min. time sec:   0.00263000, relative:      97.5\n",
      "function: cython_poly         , av. time sec:   0.00962663, min. time sec:   0.00949407, relative:     345.1\n"
     ]
    }
   ],
   "source": [
    "ne.set_num_threads(8)\n",
    "perf_comp_data([\"poly\", \n",
    "                \"hope_poly\", \n",
    "                \"numba_poly\", \n",
    "                \"cython_poly\", \n",
    "                \"cython_numpy_poly\", \n",
    "                \"native_poly\",\n",
    "                \"numexpr_poly\"], \n",
    "               7*[\"res, arg\"], rep=100)"
   ]
  },
  {
   "cell_type": "code",
   "execution_count": null,
   "metadata": {},
   "outputs": [],
   "source": []
  }
 ],
 "metadata": {
  "kernelspec": {
   "display_name": "Python 3",
   "language": "python",
   "name": "python3"
  },
  "language_info": {
   "codemirror_mode": {
    "name": "ipython",
    "version": 3
   },
   "file_extension": ".py",
   "mimetype": "text/x-python",
   "name": "python",
   "nbconvert_exporter": "python",
   "pygments_lexer": "ipython3",
   "version": "3.5.1"
  }
 },
 "nbformat": 4,
 "nbformat_minor": 1
}
