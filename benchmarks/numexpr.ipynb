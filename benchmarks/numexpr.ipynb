{
 "cells": [
  {
   "cell_type": "code",
   "execution_count": 3,
   "metadata": {},
   "outputs": [
    {
     "name": "stdout",
     "output_type": "stream",
     "text": [
      "The version_information extension is already loaded. To reload it, use:\n",
      "  %reload_ext version_information\n"
     ]
    },
    {
     "data": {
      "application/json": {
       "Software versions": [
        {
         "module": "Python",
         "version": "3.5.1 64bit [GCC 4.2.1 (Apple Inc. build 5666) (dot 3)]"
        },
        {
         "module": "IPython",
         "version": "6.1.0"
        },
        {
         "module": "OS",
         "version": "Darwin 15.6.0 x86_64 i386 64bit"
        },
        {
         "module": "numpy",
         "version": "1.13.1"
        },
        {
         "module": "Cython",
         "version": "0.26"
        },
        {
         "module": "numba",
         "version": "0.34.0"
        },
        {
         "module": "hope",
         "version": "0.6.1"
        },
        {
         "module": "numexpr",
         "version": "2.6.2"
        }
       ]
      },
      "text/html": [
       "<table><tr><th>Software</th><th>Version</th></tr><tr><td>Python</td><td>3.5.1 64bit [GCC 4.2.1 (Apple Inc. build 5666) (dot 3)]</td></tr><tr><td>IPython</td><td>6.1.0</td></tr><tr><td>OS</td><td>Darwin 15.6.0 x86_64 i386 64bit</td></tr><tr><td>numpy</td><td>1.13.1</td></tr><tr><td>Cython</td><td>0.26</td></tr><tr><td>numba</td><td>0.34.0</td></tr><tr><td>hope</td><td>0.6.1</td></tr><tr><td>numexpr</td><td>2.6.2</td></tr><tr><td colspan='2'>Tue Aug 29 17:25:19 2017 CEST</td></tr></table>"
      ],
      "text/latex": [
       "\\begin{tabular}{|l|l|}\\hline\n",
       "{\\bf Software} & {\\bf Version} \\\\ \\hline\\hline\n",
       "Python & 3.5.1 64bit [GCC 4.2.1 (Apple Inc. build 5666) (dot 3)] \\\\ \\hline\n",
       "IPython & 6.1.0 \\\\ \\hline\n",
       "OS & Darwin 15.6.0 x86\\_64 i386 64bit \\\\ \\hline\n",
       "numpy & 1.13.1 \\\\ \\hline\n",
       "Cython & 0.26 \\\\ \\hline\n",
       "numba & 0.34.0 \\\\ \\hline\n",
       "hope & 0.6.1 \\\\ \\hline\n",
       "numexpr & 2.6.2 \\\\ \\hline\n",
       "\\hline \\multicolumn{2}{|l|}{Tue Aug 29 17:25:19 2017 CEST} \\\\ \\hline\n",
       "\\end{tabular}\n"
      ],
      "text/plain": [
       "Software versions\n",
       "Python 3.5.1 64bit [GCC 4.2.1 (Apple Inc. build 5666) (dot 3)]\n",
       "IPython 6.1.0\n",
       "OS Darwin 15.6.0 x86_64 i386 64bit\n",
       "numpy 1.13.1\n",
       "Cython 0.26\n",
       "numba 0.34.0\n",
       "hope 0.6.1\n",
       "numexpr 2.6.2\n",
       "Tue Aug 29 17:25:19 2017 CEST"
      ]
     },
     "execution_count": 3,
     "metadata": {},
     "output_type": "execute_result"
    }
   ],
   "source": [
    "import hope\n",
    "hope.config.optimize = True\n",
    "hope.config.verbose = True\n",
    "hope.config.keeptemp = True\n",
    "import numba\n",
    "import numpy as np\n",
    "import numexpr as ne\n",
    "\n",
    "from util import perf_comp_data\n",
    "from native_util import load\n",
    "%load_ext Cython\n",
    "%load_ext version_information\n",
    "%version_information numpy, Cython, numba, hope, numexpr"
   ]
  },
  {
   "cell_type": "code",
   "execution_count": 4,
   "metadata": {
    "collapsed": true,
    "slideshow": {
     "slide_type": "slide"
    }
   },
   "outputs": [],
   "source": [
    "# Python version\n",
    "\n",
    "def ln_python(X, Y):\n",
    "    Y[:] = (X-1) - (X-1)**2 / 2 + (X-1)**3 / 3 - (X-1)**4 / 4 + (X-1)**5 / 5 - (X-1)**6 / 6 + (X-1)**7 / 7 - (X-1)**8 / 8 + (X-1)**9 / 9\n"
   ]
  },
  {
   "cell_type": "code",
   "execution_count": 5,
   "metadata": {
    "collapsed": true,
    "slideshow": {
     "slide_type": "slide"
    }
   },
   "outputs": [],
   "source": [
    "# Python version\n",
    "\n",
    "def ln_python_exp(X, Y):\n",
    "    x = (X - 1)\n",
    "    x2 = x*x\n",
    "    x4 = x2*x2\n",
    "    x6 = x4*x2\n",
    "    x8 = x4*x4\n",
    "    Y[:] = x - x2 / 2 + x * x2 / 3 - x4 / 4 + x * x4 / 5 - x6 / 6 + x6 * x / 7 - x8 / 8 + x8 * x / 9"
   ]
  },
  {
   "cell_type": "code",
   "execution_count": 6,
   "metadata": {
    "collapsed": true,
    "slideshow": {
     "slide_type": "slide"
    }
   },
   "outputs": [],
   "source": [
    "# NumExpr version\n",
    "def ln_numexpr(X, Y):\n",
    "    Y[:] = ne.evaluate(\"(X-1) - (X-1)**2 / 2 + (X-1)**3 / 3 - (X-1)**4 / 4 + (X-1)**5 / 5 - (X-1)**6 / 6 + (X-1)**7 / 7 - (X-1)**8 / 8 + (X-1)**9 / 9\")\n"
   ]
  },
  {
   "cell_type": "code",
   "execution_count": 7,
   "metadata": {
    "slideshow": {
     "slide_type": "slide"
    }
   },
   "outputs": [],
   "source": [
    "# Hope version\n",
    "@hope.jit\n",
    "def ln_hope(X, Y):\n",
    "    Y[:] = (X-1) - (X-1)**2 / 2 + (X-1)**3 / 3 - (X-1)**4 / 4 + (X-1)**5 / 5 - (X-1)**6 / 6 + (X-1)**7 / 7 - (X-1)**8 / 8 + (X-1)**9 / 9\n"
   ]
  },
  {
   "cell_type": "code",
   "execution_count": 8,
   "metadata": {
    "collapsed": true,
    "slideshow": {
     "slide_type": "slide"
    }
   },
   "outputs": [],
   "source": [
    "# Hope version\n",
    "\n",
    "import hope\n",
    "hope.config.optimize = False\n",
    "@hope.jit\n",
    "def ln_hope_exp(X, Y):\n",
    "    x = (X - 1)\n",
    "    x2 = x*x\n",
    "    x4 = x2*x2\n",
    "    x6 = x4*x2\n",
    "    x8 = x4*x4\n",
    "    Y[:] = x - x2 / 2 + x * x2 / 3 - x4 / 4 + x * x4 / 5 - x6 / 6 + x6 * x / 7 - x8 / 8 + x8 * x / 9"
   ]
  },
  {
   "cell_type": "code",
   "execution_count": 9,
   "metadata": {
    "collapsed": true,
    "slideshow": {
     "slide_type": "slide"
    }
   },
   "outputs": [],
   "source": [
    "# numba version\n",
    "\n",
    "@numba.jit\n",
    "def ln_numba(X, Y):\n",
    "    Y[:] = (X-1) - (X-1)**2 / 2 + (X-1)**3 / 3 - (X-1)**4 / 4 + (X-1)**5 / 5 - (X-1)**6 / 6 + (X-1)**7 / 7 - (X-1)**8 / 8 + (X-1)**9 / 9\n"
   ]
  },
  {
   "cell_type": "code",
   "execution_count": 10,
   "metadata": {
    "collapsed": true,
    "slideshow": {
     "slide_type": "slide"
    }
   },
   "outputs": [],
   "source": [
    "# numba version\n",
    "\n",
    "import numba\n",
    "\n",
    "@numba.jit\n",
    "def ln_numba_exp(X, Y):\n",
    "    x = (X - 1)\n",
    "    x2 = x*x\n",
    "    x4 = x2*x2\n",
    "    x6 = x4*x2\n",
    "    x8 = x4*x4\n",
    "    Y[:] = x - x2 / 2 + x * x2 / 3 - x4 / 4 + x * x4 / 5 - x6 / 6 + x6 * x / 7 - x8 / 8 + x8 * x / 9"
   ]
  },
  {
   "cell_type": "code",
   "execution_count": 12,
   "metadata": {},
   "outputs": [
    {
     "name": "stdout",
     "output_type": "stream",
     "text": [
      "In file included from /Users/uweschmitt/.ipython/cython/_cython_magic_c0a8dbdf5333e81ffeb4f99decde5aac.c:495:\n",
      "In file included from /Users/uweschmitt/Projects/hope/venv3/lib/python3.5/site-packages/numpy/core/include/numpy/arrayobject.h:4:\n",
      "In file included from /Users/uweschmitt/Projects/hope/venv3/lib/python3.5/site-packages/numpy/core/include/numpy/ndarrayobject.h:18:\n",
      "In file included from /Users/uweschmitt/Projects/hope/venv3/lib/python3.5/site-packages/numpy/core/include/numpy/ndarraytypes.h:1809:\n",
      "/Users/uweschmitt/Projects/hope/venv3/lib/python3.5/site-packages/numpy/core/include/numpy/npy_1_7_deprecated_api.h:15:2: warning: \"Using deprecated NumPy API, disable it by \"          \"#defining NPY_NO_DEPRECATED_API NPY_1_7_API_VERSION\" [-W#warnings]\n",
      "#warning \"Using deprecated NumPy API, disable it by \" \\\n",
      " ^\n",
      "1 warning generated.\n",
      "In file included from /Users/uweschmitt/.ipython/cython/_cython_magic_c0a8dbdf5333e81ffeb4f99decde5aac.c:495:\n",
      "In file included from /Users/uweschmitt/Projects/hope/venv3/lib/python3.5/site-packages/numpy/core/include/numpy/arrayobject.h:4:\n",
      "In file included from /Users/uweschmitt/Projects/hope/venv3/lib/python3.5/site-packages/numpy/core/include/numpy/ndarrayobject.h:18:\n",
      "In file included from /Users/uweschmitt/Projects/hope/venv3/lib/python3.5/site-packages/numpy/core/include/numpy/ndarraytypes.h:1809:\n",
      "/Users/uweschmitt/Projects/hope/venv3/lib/python3.5/site-packages/numpy/core/include/numpy/npy_1_7_deprecated_api.h:15:2: warning: \"Using deprecated NumPy API, disable it by \"          \"#defining NPY_NO_DEPRECATED_API NPY_1_7_API_VERSION\" [-W#warnings]\n",
      "#warning \"Using deprecated NumPy API, disable it by \" \\\n",
      " ^\n",
      "1 warning generated.\n"
     ]
    }
   ],
   "source": [
    "%%cython\n",
    "\n",
    "cimport cython\n",
    "\n",
    "cimport cython\n",
    "import numpy as np\n",
    "cimport numpy as np\n",
    "\n",
    "@cython.boundscheck(False)\n",
    "@cython.wraparound(False)\n",
    "def ln_cython(np.ndarray[np.double_t, ndim=1] X, np.ndarray[np.double_t, ndim=1] Y):\n",
    "    Y[:] = (X-1) - (X-1)**2 / 2 + (X-1)**3 / 3 - (X-1)**4 / 4 + (X-1)**5 / 5 - (X-1)**6 / 6 + (X-1)**7 / 7 - (X-1)**8 / 8 + (X-1)**9 / 9\n",
    "\n",
    "    \n",
    "@cython.boundscheck(False)\n",
    "@cython.wraparound(False)\n",
    "def ln_cython_exp(np.ndarray[np.float_t, ndim=1] X, np.ndarray[np.float_t, ndim=1] Y):\n",
    "    cdef np.ndarray[np.double_t, ndim=1] x = (X - 1)\n",
    "    cdef np.ndarray[np.double_t, ndim=1] x2 = x*x\n",
    "    cdef np.ndarray[np.double_t, ndim=1] x4 = x2*x2\n",
    "    cdef np.ndarray[np.double_t, ndim=1] x6 = x4*x2\n",
    "    cdef np.ndarray[np.double_t, ndim=1] x8 = x4*x4\n",
    "    Y[:] = x - x2 / 2 + x * x2 / 3 - x4 / 4 + x * x4 / 5 - x6 / 6 + x6 * x / 7 - x8 / 8 + x8 * x / 9"
   ]
  },
  {
   "cell_type": "code",
   "execution_count": 13,
   "metadata": {},
   "outputs": [
    {
     "name": "stdout",
     "output_type": "stream",
     "text": [
      "running build_ext\n",
      "building 'ln' extension\n",
      "C compiler: /usr/bin/clang -fno-strict-aliasing -Wsign-compare -Wunreachable-code -fno-common -dynamic -DNDEBUG -g -fwrapv -O3 -Wall -Wstrict-prototypes -arch i386 -arch x86_64 -g\n",
      "\n",
      "compile options: '-I/Users/uweschmitt/Projects/hope/venv3/lib/python3.5/site-packages/numpy/core/include -I/Users/uweschmitt/Projects/hope/venv3/include -I/Library/Frameworks/Python.framework/Versions/3.5/include/python3.5m -c'\n",
      "extra options: '-Wall -Wno-unused-variable -march=native -stdlib=libc++ -std=c++11 -Wno-unreachable-code'\n",
      "clang: ././src/ln.cpp\n",
      "././src/ln.cpp:105:9: error: use of undeclared identifier 'Py_InitModule'\n",
      "                (void)Py_InitModule(\"ln\", ln_hopeMethods);\n",
      "                      ^\n",
      "1 error generated.\n",
      "././src/ln.cpp:105:9: error: use of undeclared identifier 'Py_InitModule'\n",
      "                (void)Py_InitModule(\"ln\", ln_hopeMethods);\n",
      "                      ^\n",
      "1 error generated.\n",
      "error: Command \"/usr/bin/clang -fno-strict-aliasing -Wsign-compare -Wunreachable-code -fno-common -dynamic -DNDEBUG -g -fwrapv -O3 -Wall -Wstrict-prototypes -arch i386 -arch x86_64 -g -I/Users/uweschmitt/Projects/hope/venv3/lib/python3.5/site-packages/numpy/core/include -I/Users/uweschmitt/Projects/hope/venv3/include -I/Library/Frameworks/Python.framework/Versions/3.5/include/python3.5m -c ././src/ln.cpp -o ./src/ln.o -Wall -Wno-unused-variable -march=native -stdlib=libc++ -std=c++11 -Wno-unreachable-code\" failed with exit status 1537\n",
      "\n"
     ]
    },
    {
     "ename": "Exception",
     "evalue": "Error compiling function ./src/ln (compiled to ./)",
     "output_type": "error",
     "traceback": [
      "\u001b[0;31m---------------------------------------------------------------------------\u001b[0m",
      "\u001b[0;31mException\u001b[0m                                 Traceback (most recent call last)",
      "\u001b[0;32m<ipython-input-13-6b84b418c26a>\u001b[0m in \u001b[0;36m<module>\u001b[0;34m()\u001b[0m\n\u001b[1;32m      1\u001b[0m \u001b[0;32mfrom\u001b[0m \u001b[0mnative_util\u001b[0m \u001b[0;32mimport\u001b[0m \u001b[0mload\u001b[0m\u001b[0;34m\u001b[0m\u001b[0m\n\u001b[0;32m----> 2\u001b[0;31m \u001b[0mnative_ln_mod\u001b[0m \u001b[0;34m=\u001b[0m \u001b[0mload\u001b[0m\u001b[0;34m(\u001b[0m\u001b[0;34m\"ln\"\u001b[0m\u001b[0;34m)\u001b[0m\u001b[0;34m\u001b[0m\u001b[0m\n\u001b[0m\u001b[1;32m      3\u001b[0m \u001b[0mln_native\u001b[0m \u001b[0;34m=\u001b[0m \u001b[0mnative_ln_mod\u001b[0m\u001b[0;34m.\u001b[0m\u001b[0mrun\u001b[0m\u001b[0;34m\u001b[0m\u001b[0m\n\u001b[1;32m      4\u001b[0m \u001b[0;34m\u001b[0m\u001b[0m\n\u001b[1;32m      5\u001b[0m \u001b[0mnative_ln_opt_mod\u001b[0m \u001b[0;34m=\u001b[0m \u001b[0mload\u001b[0m\u001b[0;34m(\u001b[0m\u001b[0;34m\"ln_opt\"\u001b[0m\u001b[0;34m)\u001b[0m\u001b[0;34m\u001b[0m\u001b[0m\n",
      "\u001b[0;32m~/Projects/hope/benchmarks/native_util.py\u001b[0m in \u001b[0;36mload\u001b[0;34m(name)\u001b[0m\n\u001b[1;32m     19\u001b[0m \u001b[0;34m\u001b[0m\u001b[0m\n\u001b[1;32m     20\u001b[0m \u001b[0;32mdef\u001b[0m \u001b[0mload\u001b[0m\u001b[0;34m(\u001b[0m\u001b[0mname\u001b[0m\u001b[0;34m)\u001b[0m\u001b[0;34m:\u001b[0m\u001b[0;34m\u001b[0m\u001b[0m\n\u001b[0;32m---> 21\u001b[0;31m     \u001b[0mcompile\u001b[0m\u001b[0;34m(\u001b[0m\u001b[0mname\u001b[0m\u001b[0;34m,\u001b[0m \u001b[0;34m\"./src\"\u001b[0m\u001b[0;34m)\u001b[0m\u001b[0;34m\u001b[0m\u001b[0m\n\u001b[0m\u001b[1;32m     22\u001b[0m     \u001b[0mmodule\u001b[0m \u001b[0;34m=\u001b[0m \u001b[0mimportlib\u001b[0m\u001b[0;34m.\u001b[0m\u001b[0mimport_module\u001b[0m\u001b[0;34m(\u001b[0m\u001b[0mname\u001b[0m\u001b[0;34m)\u001b[0m\u001b[0;34m\u001b[0m\u001b[0m\n\u001b[1;32m     23\u001b[0m     \u001b[0;31m# module = __import__(name, globals(), locals(), [], -1)\u001b[0m\u001b[0;34m\u001b[0m\u001b[0;34m\u001b[0m\u001b[0m\n",
      "\u001b[0;32m~/Projects/hope/benchmarks/native_util.py\u001b[0m in \u001b[0;36mcompile\u001b[0;34m(name, src_folder, target_folder)\u001b[0m\n\u001b[1;32m     98\u001b[0m     \u001b[0;32mif\u001b[0m \u001b[0;32mnot\u001b[0m \u001b[0mmodules\u001b[0m \u001b[0;32mor\u001b[0m \u001b[0mout\u001b[0m\u001b[0;34m.\u001b[0m\u001b[0mfind\u001b[0m\u001b[0;34m(\u001b[0m\u001b[0;34m\"error:\"\u001b[0m\u001b[0;34m)\u001b[0m \u001b[0;34m>\u001b[0m \u001b[0;34m-\u001b[0m\u001b[0;36m1\u001b[0m\u001b[0;34m:\u001b[0m\u001b[0;34m\u001b[0m\u001b[0m\n\u001b[1;32m     99\u001b[0m         \u001b[0mprint\u001b[0m\u001b[0;34m(\u001b[0m\u001b[0mout\u001b[0m\u001b[0;34m)\u001b[0m\u001b[0;34m\u001b[0m\u001b[0m\n\u001b[0;32m--> 100\u001b[0;31m         \u001b[0;32mraise\u001b[0m \u001b[0mException\u001b[0m\u001b[0;34m(\u001b[0m\u001b[0;34m\"Error compiling function {0} (compiled to {1})\"\u001b[0m\u001b[0;34m.\u001b[0m\u001b[0mformat\u001b[0m\u001b[0;34m(\u001b[0m\u001b[0mlocalfilename\u001b[0m\u001b[0;34m,\u001b[0m \u001b[0mtarget_folder\u001b[0m\u001b[0;34m)\u001b[0m\u001b[0;34m)\u001b[0m\u001b[0;34m\u001b[0m\u001b[0m\n\u001b[0m\u001b[1;32m    101\u001b[0m \u001b[0;34m\u001b[0m\u001b[0m\n\u001b[1;32m    102\u001b[0m     \u001b[0;32mif\u001b[0m \u001b[0mout\u001b[0m\u001b[0;34m.\u001b[0m\u001b[0mfind\u001b[0m\u001b[0;34m(\u001b[0m\u001b[0;34m\"warning:\"\u001b[0m\u001b[0;34m)\u001b[0m \u001b[0;34m>\u001b[0m \u001b[0;34m-\u001b[0m\u001b[0;36m1\u001b[0m\u001b[0;34m:\u001b[0m\u001b[0;34m\u001b[0m\u001b[0m\n",
      "\u001b[0;31mException\u001b[0m: Error compiling function ./src/ln (compiled to ./)"
     ]
    }
   ],
   "source": [
    "from native_util import load\n",
    "native_ln_mod = load(\"ln\")\n",
    "ln_native = native_ln_mod.run\n",
    "\n",
    "native_ln_opt_mod = load(\"ln_opt\")\n",
    "ln_native_opt = native_ln_opt_mod.run\n",
    "\n",
    "native_ln_exp_mod = load(\"ln_exp\")\n",
    "ln_native_exp = native_ln_exp_mod.run\n"
   ]
  },
  {
   "cell_type": "code",
   "execution_count": 13,
   "metadata": {
    "collapsed": true,
    "slideshow": {
     "slide_type": "notes"
    }
   },
   "outputs": [],
   "source": [
    "# Hope version - optimized\n",
    "\n",
    "import hope\n",
    "hope.config.optimize = True\n",
    "\n",
    "@hope.jit\n",
    "def ln_hope_opt(X, Y):\n",
    "    Y[:] = (X-1) - (X-1)**2 / 2 + (X-1)**3 / 3 - (X-1)**4 / 4 + (X-1)**5 / 5 - (X-1)**6 / 6 + (X-1)**7 / 7 - (X-1)**8 / 8 + (X-1)**9 / 9\n",
    "\n",
    "\n",
    "hope.config.optimize = False"
   ]
  },
  {
   "cell_type": "code",
   "execution_count": 15,
   "metadata": {
    "collapsed": true,
    "slideshow": {
     "slide_type": "slide"
    }
   },
   "outputs": [],
   "source": [
    "import numpy as np\n",
    "\n",
    "X = np.random.random(10000).astype(np.float64)\n",
    "Y = np.ones_like(X)"
   ]
  },
  {
   "cell_type": "code",
   "execution_count": 17,
   "metadata": {
    "collapsed": true
   },
   "outputs": [],
   "source": [
    "Y1 = np.ones_like(X)\n",
    "Y2 = np.ones_like(X)\n",
    "Y3 = np.ones_like(X)\n",
    "Y4 = np.ones_like(X)\n",
    "Y5 = np.ones_like(X)\n",
    "Y6 = np.ones_like(X)\n",
    "Y7 = np.ones_like(X)\n",
    "Y8 = np.ones_like(X)\n",
    "Y9 = np.ones_like(X)\n",
    "Y10 = np.ones_like(X)\n",
    "Y11 = np.ones_like(X)\n",
    "Y12 = np.ones_like(X)\n",
    "Y13 = np.ones_like(X)\n",
    "\n",
    "ln_python(X, Y1)\n",
    "ln_python_exp(X, Y2)\n",
    "ln_cython(X, Y3)\n",
    "ln_cython_exp(X, Y4)\n",
    "ln_numexpr(X, Y5)\n",
    "ln_hope(X, Y6)\n",
    "ln_hope_exp(X, Y7)\n",
    "ln_numba(X, Y8)\n",
    "ln_numba_exp(X, Y9)\n",
    "ln_native(X, Y10)\n",
    "ln_native_opt(X, Y11)\n",
    "ln_native_exp(X, Y12)\n",
    "ln_hope_opt(X, Y13)\n",
    "\n",
    "assert np.allclose(Y1,Y2, 1E-10)\n",
    "assert np.allclose(Y1,Y3, 1E-10)\n",
    "assert np.allclose(Y1,Y4, 1E-10)\n",
    "assert np.allclose(Y1,Y5, 1E-10)\n",
    "assert np.allclose(Y1,Y6, 1E-10)\n",
    "assert np.allclose(Y1,Y7, 1E-10)\n",
    "assert np.allclose(Y1,Y8, 1E-10)\n",
    "assert np.allclose(Y1,Y9, 1E-10)\n",
    "assert np.allclose(Y1,Y10, 1E-10)\n",
    "assert np.allclose(Y1,Y11, 1E-10)\n",
    "assert np.allclose(Y1,Y12, 1E-10)\n",
    "assert np.allclose(Y1,Y13, 1E-10)\n"
   ]
  },
  {
   "cell_type": "code",
   "execution_count": 18,
   "metadata": {
    "slideshow": {
     "slide_type": "slide"
    }
   },
   "outputs": [
    {
     "name": "stdout",
     "output_type": "stream",
     "text": [
      "python\n",
      "100 loops, best of 3: 2.4 ms per loop\n",
      "1000 loops, best of 3: 299 µs per loop\n",
      "numexpr (1)\n",
      "1000 loops, best of 3: 400 µs per loop\n",
      "numexpr (8)\n",
      "1000 loops, best of 3: 200 µs per loop\n",
      "hope\n",
      "10000 loops, best of 3: 128 µs per loop\n",
      "1000 loops, best of 3: 212 µs per loop\n",
      "10000 loops, best of 3: 128 µs per loop\n",
      "cython\n",
      "100 loops, best of 3: 2.4 ms per loop\n",
      "1000 loops, best of 3: 305 µs per loop\n",
      "numba\n",
      "100 loops, best of 3: 2.41 ms per loop\n",
      "1000 loops, best of 3: 305 µs per loop\n",
      "native\n",
      "100 loops, best of 3: 2.12 ms per loop\n",
      "10000 loops, best of 3: 128 µs per loop\n",
      "10000 loops, best of 3: 106 µs per loop\n"
     ]
    }
   ],
   "source": [
    "import numexpr as ne\n",
    "\n",
    "print \"python\"\n",
    "%timeit ln_python(X, Y)\n",
    "%timeit ln_python_exp(X, Y)\n",
    "print \"numexpr (1)\"\n",
    "ne.set_num_threads(1)\n",
    "%timeit ln_numexpr(X, Y)\n",
    "print \"numexpr ({0})\".format(ne.detect_number_of_cores())\n",
    "ne.set_num_threads(ne.detect_number_of_cores())\n",
    "%timeit ln_numexpr(X, Y)\n",
    "print \"hope\"\n",
    "%timeit ln_hope(X, Y)\n",
    "%timeit ln_hope_exp(X, Y)\n",
    "%timeit ln_hope_opt(X, Y)\n",
    "print \"cython\"\n",
    "%timeit ln_cython(X, Y)\n",
    "%timeit ln_cython_exp(X, Y)\n",
    "print \"numba\"\n",
    "%timeit ln_numba(X, Y)\n",
    "%timeit ln_numba_exp(X, Y)\n",
    "print \"native\"\n",
    "%timeit ln_native(X, Y)\n",
    "%timeit ln_native_opt(X, Y)\n",
    "%timeit ln_native_exp(X, Y)\n"
   ]
  },
  {
   "cell_type": "code",
   "execution_count": 19,
   "metadata": {
    "collapsed": true
   },
   "outputs": [],
   "source": [
    "from util import perf_comp_data"
   ]
  },
  {
   "cell_type": "code",
   "execution_count": 20,
   "metadata": {},
   "outputs": [
    {
     "name": "stdout",
     "output_type": "stream",
     "text": [
      "function: ln_native_exp       , av. time sec:   0.00010705, min. time sec:   0.00010586, relative:       1.0\n",
      "function: ln_hope_opt         , av. time sec:   0.00012398, min. time sec:   0.00012398, relative:       1.2\n",
      "function: ln_hope             , av. time sec:   0.00012422, min. time sec:   0.00012398, relative:       1.2\n",
      "function: ln_native_opt       , av. time sec:   0.00012803, min. time sec:   0.00012708, relative:       1.2\n",
      "function: ln_hope_exp         , av. time sec:   0.00020707, min. time sec:   0.00020695, relative:       1.9\n",
      "function: ln_numexpr          , av. time sec:   0.00021243, min. time sec:   0.00018501, relative:       2.0\n",
      "function: ln_python_exp       , av. time sec:   0.00029302, min. time sec:   0.00029206, relative:       2.7\n",
      "function: ln_numba_exp        , av. time sec:   0.00030351, min. time sec:   0.00029993, relative:       2.8\n",
      "function: ln_cython_exp       , av. time sec:   0.00030696, min. time sec:   0.00029683, relative:       2.9\n",
      "function: ln_native           , av. time sec:   0.00215054, min. time sec:   0.00208783, relative:      20.1\n",
      "function: ln_cython           , av. time sec:   0.00241804, min. time sec:   0.00235510, relative:      22.6\n",
      "function: ln_numba            , av. time sec:   0.00241804, min. time sec:   0.00237322, relative:      22.6\n",
      "function: ln_python           , av. time sec:   0.00243747, min. time sec:   0.00235200, relative:      22.8\n"
     ]
    }
   ],
   "source": [
    "func_list = [\"ln_python\", \"ln_python_exp\", \n",
    "             \"ln_numexpr\", \n",
    "             \"ln_hope\", \"ln_hope_exp\", \"ln_hope_opt\", \n",
    "             \"ln_cython\", \"ln_cython_exp\", \n",
    "             \"ln_numba\", \"ln_numba_exp\", \n",
    "             \"ln_native\", \"ln_native_opt\", \"ln_native_exp\", ]\n",
    "perf_comp_data(func_list,\n",
    "               len(func_list)*[\"X, Y\"], rep=100)"
   ]
  },
  {
   "cell_type": "code",
   "execution_count": null,
   "metadata": {
    "collapsed": true
   },
   "outputs": [],
   "source": []
  }
 ],
 "metadata": {
  "kernelspec": {
   "display_name": "Python 3",
   "language": "python",
   "name": "python3"
  },
  "language_info": {
   "codemirror_mode": {
    "name": "ipython",
    "version": 3
   },
   "file_extension": ".py",
   "mimetype": "text/x-python",
   "name": "python",
   "nbconvert_exporter": "python",
   "pygments_lexer": "ipython3",
   "version": "3.5.1"
  }
 },
 "nbformat": 4,
 "nbformat_minor": 1
}
