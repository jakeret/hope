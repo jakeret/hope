{
 "cells": [
  {
   "cell_type": "code",
   "execution_count": 1,
   "metadata": {},
   "outputs": [
    {
     "data": {
      "application/json": {
       "Software versions": [
        {
         "module": "Python",
         "version": "3.5.1 64bit [GCC 4.2.1 (Apple Inc. build 5666) (dot 3)]"
        },
        {
         "module": "IPython",
         "version": "6.1.0"
        },
        {
         "module": "OS",
         "version": "Darwin 15.6.0 x86_64 i386 64bit"
        },
        {
         "module": "numpy",
         "version": "1.13.1"
        },
        {
         "module": "Cython",
         "version": "0.26"
        },
        {
         "module": "numba",
         "version": "0.34.0"
        },
        {
         "module": "hope",
         "version": "0.6.1"
        },
        {
         "module": "numexpr",
         "version": "2.6.2"
        }
       ]
      },
      "text/html": [
       "<table><tr><th>Software</th><th>Version</th></tr><tr><td>Python</td><td>3.5.1 64bit [GCC 4.2.1 (Apple Inc. build 5666) (dot 3)]</td></tr><tr><td>IPython</td><td>6.1.0</td></tr><tr><td>OS</td><td>Darwin 15.6.0 x86_64 i386 64bit</td></tr><tr><td>numpy</td><td>1.13.1</td></tr><tr><td>Cython</td><td>0.26</td></tr><tr><td>numba</td><td>0.34.0</td></tr><tr><td>hope</td><td>0.6.1</td></tr><tr><td>numexpr</td><td>2.6.2</td></tr><tr><td colspan='2'>Mon Sep 04 15:24:42 2017 CEST</td></tr></table>"
      ],
      "text/latex": [
       "\\begin{tabular}{|l|l|}\\hline\n",
       "{\\bf Software} & {\\bf Version} \\\\ \\hline\\hline\n",
       "Python & 3.5.1 64bit [GCC 4.2.1 (Apple Inc. build 5666) (dot 3)] \\\\ \\hline\n",
       "IPython & 6.1.0 \\\\ \\hline\n",
       "OS & Darwin 15.6.0 x86\\_64 i386 64bit \\\\ \\hline\n",
       "numpy & 1.13.1 \\\\ \\hline\n",
       "Cython & 0.26 \\\\ \\hline\n",
       "numba & 0.34.0 \\\\ \\hline\n",
       "hope & 0.6.1 \\\\ \\hline\n",
       "numexpr & 2.6.2 \\\\ \\hline\n",
       "\\hline \\multicolumn{2}{|l|}{Mon Sep 04 15:24:42 2017 CEST} \\\\ \\hline\n",
       "\\end{tabular}\n"
      ],
      "text/plain": [
       "Software versions\n",
       "Python 3.5.1 64bit [GCC 4.2.1 (Apple Inc. build 5666) (dot 3)]\n",
       "IPython 6.1.0\n",
       "OS Darwin 15.6.0 x86_64 i386 64bit\n",
       "numpy 1.13.1\n",
       "Cython 0.26\n",
       "numba 0.34.0\n",
       "hope 0.6.1\n",
       "numexpr 2.6.2\n",
       "Mon Sep 04 15:24:42 2017 CEST"
      ]
     },
     "execution_count": 1,
     "metadata": {},
     "output_type": "execute_result"
    }
   ],
   "source": [
    "import hope\n",
    "hope.config.optimize = True\n",
    "hope.config.verbose = True\n",
    "hope.config.keeptemp = True\n",
    "import numba\n",
    "import numpy as np\n",
    "import numexpr as ne\n",
    "\n",
    "from util import perf_comp_data\n",
    "from native_util import load\n",
    "%load_ext Cython\n",
    "%load_ext version_information\n",
    "%version_information numpy, Cython, numba, hope, numexpr"
   ]
  },
  {
   "cell_type": "code",
   "execution_count": 2,
   "metadata": {
    "collapsed": true,
    "slideshow": {
     "slide_type": "slide"
    }
   },
   "outputs": [],
   "source": [
    "# Python version\n",
    "\n",
    "def ln_python(X, Y):\n",
    "    Y[:] = (X-1) - (X-1)**2 / 2 + (X-1)**3 / 3 - (X-1)**4 / 4 + (X-1)**5 / 5 - (X-1)**6 / 6 + (X-1)**7 / 7 - (X-1)**8 / 8 + (X-1)**9 / 9\n"
   ]
  },
  {
   "cell_type": "code",
   "execution_count": 3,
   "metadata": {
    "collapsed": true,
    "slideshow": {
     "slide_type": "slide"
    }
   },
   "outputs": [],
   "source": [
    "# Python version\n",
    "\n",
    "def ln_python_exp(X, Y):\n",
    "    x = (X - 1)\n",
    "    x2 = x*x\n",
    "    x4 = x2*x2\n",
    "    x6 = x4*x2\n",
    "    x8 = x4*x4\n",
    "    Y[:] = x - x2 / 2 + x * x2 / 3 - x4 / 4 + x * x4 / 5 - x6 / 6 + x6 * x / 7 - x8 / 8 + x8 * x / 9"
   ]
  },
  {
   "cell_type": "code",
   "execution_count": 4,
   "metadata": {
    "collapsed": true,
    "slideshow": {
     "slide_type": "slide"
    }
   },
   "outputs": [],
   "source": [
    "# NumExpr version\n",
    "def ln_numexpr(X, Y):\n",
    "    Y[:] = ne.evaluate(\"(X-1) - (X-1)**2 / 2 + (X-1)**3 / 3 - (X-1)**4 / 4 + (X-1)**5 / 5 - (X-1)**6 / 6 + (X-1)**7 / 7 - (X-1)**8 / 8 + (X-1)**9 / 9\")\n"
   ]
  },
  {
   "cell_type": "code",
   "execution_count": 5,
   "metadata": {
    "slideshow": {
     "slide_type": "slide"
    }
   },
   "outputs": [
    {
     "name": "stderr",
     "output_type": "stream",
     "text": [
      "/Users/uweschmitt/Projects/hope/hope/jit.py:112: UserWarning: Recompiling... Reason: State is inconsistent with config. Inconsistent state key: [optimize].\n",
      "  warnings.warn(\"Recompiling... Reason: {0}\".format(le))\n"
     ]
    }
   ],
   "source": [
    "# Hope version\n",
    "@hope.jit\n",
    "def ln_hope(X, Y):\n",
    "    Y[:] = (X-1) - (X-1)**2 / 2 + (X-1)**3 / 3 - (X-1)**4 / 4 + (X-1)**5 / 5 - (X-1)**6 / 6 + (X-1)**7 / 7 - (X-1)**8 / 8 + (X-1)**9 / 9\n"
   ]
  },
  {
   "cell_type": "code",
   "execution_count": 6,
   "metadata": {
    "collapsed": true,
    "slideshow": {
     "slide_type": "slide"
    }
   },
   "outputs": [],
   "source": [
    "# Hope version\n",
    "\n",
    "import hope\n",
    "hope.config.optimize = False\n",
    "@hope.jit\n",
    "def ln_hope_exp(X, Y):\n",
    "    x = (X - 1)\n",
    "    x2 = x*x\n",
    "    x4 = x2*x2\n",
    "    x6 = x4*x2\n",
    "    x8 = x4*x4\n",
    "    Y[:] = x - x2 / 2 + x * x2 / 3 - x4 / 4 + x * x4 / 5 - x6 / 6 + x6 * x / 7 - x8 / 8 + x8 * x / 9"
   ]
  },
  {
   "cell_type": "code",
   "execution_count": 7,
   "metadata": {
    "collapsed": true,
    "slideshow": {
     "slide_type": "slide"
    }
   },
   "outputs": [],
   "source": [
    "# numba version\n",
    "\n",
    "@numba.jit\n",
    "def ln_numba(X, Y):\n",
    "    Y[:] = (X-1) - (X-1)**2 / 2 + (X-1)**3 / 3 - (X-1)**4 / 4 + (X-1)**5 / 5 - (X-1)**6 / 6 + (X-1)**7 / 7 - (X-1)**8 / 8 + (X-1)**9 / 9\n"
   ]
  },
  {
   "cell_type": "code",
   "execution_count": 8,
   "metadata": {
    "collapsed": true,
    "slideshow": {
     "slide_type": "slide"
    }
   },
   "outputs": [],
   "source": [
    "# numba version\n",
    "\n",
    "import numba\n",
    "\n",
    "@numba.jit\n",
    "def ln_numba_exp(X, Y):\n",
    "    x = (X - 1)\n",
    "    x2 = x*x\n",
    "    x4 = x2*x2\n",
    "    x6 = x4*x2\n",
    "    x8 = x4*x4\n",
    "    Y[:] = x - x2 / 2 + x * x2 / 3 - x4 / 4 + x * x4 / 5 - x6 / 6 + x6 * x / 7 - x8 / 8 + x8 * x / 9"
   ]
  },
  {
   "cell_type": "code",
   "execution_count": 9,
   "metadata": {
    "collapsed": true
   },
   "outputs": [],
   "source": [
    "%%cython\n",
    "\n",
    "cimport cython\n",
    "\n",
    "cimport cython\n",
    "import numpy as np\n",
    "cimport numpy as np\n",
    "\n",
    "@cython.boundscheck(False)\n",
    "@cython.wraparound(False)\n",
    "def ln_cython(np.ndarray[np.double_t, ndim=1] X, np.ndarray[np.double_t, ndim=1] Y):\n",
    "    cdef size_t i, n\n",
    "    cdef double x\n",
    "    n = len(X)\n",
    "    cdef double *xx = <double *>X.data\n",
    "    cdef double *yy = <double *>Y.data\n",
    "    for i in range(n):\n",
    "        x = xx[i] \n",
    "        yy[i] = (x-1) - (x-1)**2 / 2 + (x-1)**3 / 3 - (x-1)**4 / 4 + (x-1)**5 / 5 - (x-1)**6 / 6 + (x-1)**7 / 7 - (x-1)**8 / 8 + (x-1)**9 / 9\n",
    "\n",
    "    \n",
    "@cython.boundscheck(False)\n",
    "@cython.wraparound(False)\n",
    "def ln_cython_exp(np.ndarray[np.float_t, ndim=1] X, np.ndarray[np.float_t, ndim=1] Y):\n",
    "    cdef size_t i, n\n",
    "    cdef double x, x2, x4, x6, x8\n",
    "    cdef double *xx = <double *>X.data\n",
    "    cdef double *yy = <double *>Y.data\n",
    "    n = len(X)\n",
    "    for i in range(n):\n",
    "        x = xx[i] - 1\n",
    "        x2 = x * x\n",
    "        x4 = x2 * x2\n",
    "        x6 = x2 * x4\n",
    "        x8 = x4 * x4\n",
    "        yy[i] = x - x2 / 2 + x * x2 / 3 - x4 / 4 + x * x4 / 5 - x6 / 6 + x6 * x / 7 - x8 / 8 + x8 * x / 9    \n",
    "    "
   ]
  },
  {
   "cell_type": "code",
   "execution_count": 10,
   "metadata": {},
   "outputs": [
    {
     "name": "stdout",
     "output_type": "stream",
     "text": [
      "running build_ext\n",
      "building 'ln' extension\n",
      "C compiler: /usr/bin/clang -fno-strict-aliasing -Wsign-compare -Wunreachable-code -fno-common -dynamic -DNDEBUG -g -fwrapv -O3 -Wall -Wstrict-prototypes -arch i386 -arch x86_64 -g\n",
      "\n",
      "compile options: '-I/Users/uweschmitt/Projects/hope/venv3/lib/python3.5/site-packages/numpy/core/include -I/Users/uweschmitt/Projects/hope/venv3/include -I/Library/Frameworks/Python.framework/Versions/3.5/include/python3.5m -c'\n",
      "extra options: '-Wall -Wno-unused-variable -march=native -stdlib=libc++ -std=c++11 -Wno-unreachable-code'\n",
      "clang: ././src/ln.cpp\n",
      "/usr/bin/clang++ -bundle -undefined dynamic_lookup -arch i386 -arch x86_64 -g ./src/ln.o -o ./ln.cpython-35m-darwin.so\n",
      "\n",
      "running build_ext\n",
      "building 'ln_opt' extension\n",
      "C compiler: /usr/bin/clang -fno-strict-aliasing -Wsign-compare -Wunreachable-code -fno-common -dynamic -DNDEBUG -g -fwrapv -O3 -Wall -Wstrict-prototypes -arch i386 -arch x86_64 -g\n",
      "\n",
      "compile options: '-I/Users/uweschmitt/Projects/hope/venv3/lib/python3.5/site-packages/numpy/core/include -I/Users/uweschmitt/Projects/hope/venv3/include -I/Library/Frameworks/Python.framework/Versions/3.5/include/python3.5m -c'\n",
      "extra options: '-Wall -Wno-unused-variable -march=native -stdlib=libc++ -std=c++11 -Wno-unreachable-code'\n",
      "clang: ././src/ln_opt.cpp\n",
      "/usr/bin/clang++ -bundle -undefined dynamic_lookup -arch i386 -arch x86_64 -g ./src/ln_opt.o -o ./ln_opt.cpython-35m-darwin.so\n",
      "\n",
      "running build_ext\n",
      "building 'ln_exp' extension\n",
      "C compiler: /usr/bin/clang -fno-strict-aliasing -Wsign-compare -Wunreachable-code -fno-common -dynamic -DNDEBUG -g -fwrapv -O3 -Wall -Wstrict-prototypes -arch i386 -arch x86_64 -g\n",
      "\n",
      "compile options: '-I/Users/uweschmitt/Projects/hope/venv3/lib/python3.5/site-packages/numpy/core/include -I/Users/uweschmitt/Projects/hope/venv3/include -I/Library/Frameworks/Python.framework/Versions/3.5/include/python3.5m -c'\n",
      "extra options: '-Wall -Wno-unused-variable -march=native -stdlib=libc++ -std=c++11 -Wno-unreachable-code'\n",
      "clang: ././src/ln_exp.cpp\n",
      "/usr/bin/clang++ -bundle -undefined dynamic_lookup -arch i386 -arch x86_64 -g ./src/ln_exp.o -o ./ln_exp.cpython-35m-darwin.so\n",
      "\n"
     ]
    }
   ],
   "source": [
    "from native_util import load\n",
    "native_ln_mod = load(\"ln\")\n",
    "ln_native = native_ln_mod.run\n",
    "\n",
    "native_ln_opt_mod = load(\"ln_opt\")\n",
    "ln_native_opt = native_ln_opt_mod.run\n",
    "\n",
    "native_ln_exp_mod = load(\"ln_exp\")\n",
    "ln_native_exp = native_ln_exp_mod.run\n"
   ]
  },
  {
   "cell_type": "code",
   "execution_count": 11,
   "metadata": {
    "slideshow": {
     "slide_type": "notes"
    }
   },
   "outputs": [
    {
     "name": "stderr",
     "output_type": "stream",
     "text": [
      "/Users/uweschmitt/Projects/hope/hope/jit.py:112: UserWarning: Recompiling... Reason: State is inconsistent with config. Inconsistent state key: [optimize].\n",
      "  warnings.warn(\"Recompiling... Reason: {0}\".format(le))\n"
     ]
    }
   ],
   "source": [
    "# Hope version - optimized\n",
    "\n",
    "import hope\n",
    "hope.config.optimize = True\n",
    "\n",
    "@hope.jit\n",
    "def ln_hope_opt(X, Y):\n",
    "    Y[:] = (X-1) - (X-1)**2 / 2 + (X-1)**3 / 3 - (X-1)**4 / 4 + (X-1)**5 / 5 - (X-1)**6 / 6 + (X-1)**7 / 7 - (X-1)**8 / 8 + (X-1)**9 / 9\n",
    "\n",
    "\n",
    "hope.config.optimize = False"
   ]
  },
  {
   "cell_type": "code",
   "execution_count": 12,
   "metadata": {
    "collapsed": true,
    "slideshow": {
     "slide_type": "slide"
    }
   },
   "outputs": [],
   "source": [
    "import numpy as np\n",
    "\n",
    "X = np.random.random(10000).astype(np.float64)\n",
    "Y = np.ones_like(X)"
   ]
  },
  {
   "cell_type": "code",
   "execution_count": 13,
   "metadata": {},
   "outputs": [
    {
     "name": "stdout",
     "output_type": "stream",
     "text": [
      "Compiling following functions:\n",
      "ln_hope(float64^1 X, float64^1 Y)\n",
      "running build_ext\n",
      "building 'ln_hope_f15670420910980a71b044ad212142e5c0bffbce3030fa3603b54df8_0' extension\n",
      "C compiler: /usr/bin/clang -fno-strict-aliasing -Wsign-compare -Wunreachable-code -fno-common -dynamic -DNDEBUG -g -fwrapv -O3 -Wall -arch i386 -arch x86_64 -g\n",
      "\n",
      "compile options: '-I/Users/uweschmitt/Projects/hope/venv3/lib/python3.5/site-packages/numpy/core/include -I/Users/uweschmitt/Projects/hope/venv3/include -I/Library/Frameworks/Python.framework/Versions/3.5/include/python3.5m -c'\n",
      "extra options: '-Wall -Wno-unused-variable -march=native -stdlib=libc++ -std=c++11 -Wno-unreachable-code'\n",
      "clang: /var/folders/k8/zfp7dvcs1m326gz1brql1tv80000gn/T/hope8ltuei58/ln_hope_f15670420910980a71b044ad212142e5c0bffbce3030fa3603b54df8_0.cpp\n",
      "/usr/bin/clang++ -bundle -undefined dynamic_lookup -arch i386 -arch x86_64 -g /var/folders/k8/zfp7dvcs1m326gz1brql1tv80000gn/T/hope8ltuei58/ln_hope_f15670420910980a71b044ad212142e5c0bffbce3030fa3603b54df8_0.o -o /var/folders/k8/zfp7dvcs1m326gz1brql1tv80000gn/T/hope8ltuei58/ln_hope_f15670420910980a71b044ad212142e5c0bffbce3030fa3603b54df8_0.cpython-35m-darwin.so\n",
      "\n",
      "Compiling following functions:\n",
      "ln_hope_opt(float64^1 X, float64^1 Y)\n",
      "running build_ext\n",
      "building 'ln_hope_opt_e61495c068774ff7cc57eca53040c8172f643a2ae5e21fb9ddd84b2c_0' extension\n",
      "C compiler: /usr/bin/clang -fno-strict-aliasing -Wsign-compare -Wunreachable-code -fno-common -dynamic -DNDEBUG -g -fwrapv -O3 -Wall -arch i386 -arch x86_64 -g\n",
      "\n",
      "compile options: '-I/Users/uweschmitt/Projects/hope/venv3/lib/python3.5/site-packages/numpy/core/include -I/Users/uweschmitt/Projects/hope/venv3/include -I/Library/Frameworks/Python.framework/Versions/3.5/include/python3.5m -c'\n",
      "extra options: '-Wall -Wno-unused-variable -march=native -stdlib=libc++ -std=c++11 -Wno-unreachable-code'\n",
      "clang: /var/folders/k8/zfp7dvcs1m326gz1brql1tv80000gn/T/hopehhalgg0h/ln_hope_opt_e61495c068774ff7cc57eca53040c8172f643a2ae5e21fb9ddd84b2c_0.cpp\n",
      "/usr/bin/clang++ -bundle -undefined dynamic_lookup -arch i386 -arch x86_64 -g /var/folders/k8/zfp7dvcs1m326gz1brql1tv80000gn/T/hopehhalgg0h/ln_hope_opt_e61495c068774ff7cc57eca53040c8172f643a2ae5e21fb9ddd84b2c_0.o -o /var/folders/k8/zfp7dvcs1m326gz1brql1tv80000gn/T/hopehhalgg0h/ln_hope_opt_e61495c068774ff7cc57eca53040c8172f643a2ae5e21fb9ddd84b2c_0.cpython-35m-darwin.so\n",
      "\n"
     ]
    }
   ],
   "source": [
    "Y1 = np.ones_like(X)\n",
    "Y2 = np.ones_like(X)\n",
    "Y3 = np.ones_like(X)\n",
    "Y4 = np.ones_like(X)\n",
    "Y5 = np.ones_like(X)\n",
    "Y6 = np.ones_like(X)\n",
    "Y7 = np.ones_like(X)\n",
    "Y8 = np.ones_like(X)\n",
    "Y9 = np.ones_like(X)\n",
    "Y10 = np.ones_like(X)\n",
    "Y11 = np.ones_like(X)\n",
    "Y12 = np.ones_like(X)\n",
    "Y13 = np.ones_like(X)\n",
    "\n",
    "ln_python(X, Y1)\n",
    "ln_python_exp(X, Y2)\n",
    "ln_cython(X, Y3)\n",
    "ln_cython_exp(X, Y4)\n",
    "ln_numexpr(X, Y5)\n",
    "ln_hope(X, Y6)\n",
    "ln_hope_exp(X, Y7)\n",
    "ln_numba(X, Y8)\n",
    "ln_numba_exp(X, Y9)\n",
    "ln_native(X, Y10)\n",
    "ln_native_opt(X, Y11)\n",
    "ln_native_exp(X, Y12)\n",
    "ln_hope_opt(X, Y13)\n",
    "\n",
    "assert np.allclose(Y1,Y2, 1E-10)\n",
    "assert np.allclose(Y1,Y3, 1E-10)\n",
    "assert np.allclose(Y1,Y4, 1E-10)\n",
    "assert np.allclose(Y1,Y5, 1E-10)\n",
    "assert np.allclose(Y1,Y6, 1E-10)\n",
    "assert np.allclose(Y1,Y7, 1E-10)\n",
    "assert np.allclose(Y1,Y8, 1E-10)\n",
    "assert np.allclose(Y1,Y9, 1E-10)\n",
    "assert np.allclose(Y1,Y10, 1E-10)\n",
    "assert np.allclose(Y1,Y11, 1E-10)\n",
    "assert np.allclose(Y1,Y12, 1E-10)\n",
    "assert np.allclose(Y1,Y13, 1E-10)\n"
   ]
  },
  {
   "cell_type": "code",
   "execution_count": 14,
   "metadata": {
    "slideshow": {
     "slide_type": "slide"
    }
   },
   "outputs": [
    {
     "name": "stdout",
     "output_type": "stream",
     "text": [
      "python\n",
      "2.46 ms ± 25.3 µs per loop (mean ± std. dev. of 7 runs, 100 loops each)\n",
      "304 µs ± 12 µs per loop (mean ± std. dev. of 7 runs, 1000 loops each)\n",
      "numexpr (1)\n",
      "442 µs ± 7.12 µs per loop (mean ± std. dev. of 7 runs, 1000 loops each)\n",
      "numexpr (8)\n",
      "211 µs ± 7.66 µs per loop (mean ± std. dev. of 7 runs, 1000 loops each)\n",
      "hope\n",
      "2.37 ms ± 59.9 µs per loop (mean ± std. dev. of 7 runs, 100 loops each)\n",
      "124 µs ± 2.12 µs per loop (mean ± std. dev. of 7 runs, 10000 loops each)\n",
      "2.45 ms ± 24.6 µs per loop (mean ± std. dev. of 7 runs, 100 loops each)\n",
      "cython\n",
      "2.24 ms ± 87.3 µs per loop (mean ± std. dev. of 7 runs, 100 loops each)\n",
      "120 µs ± 3.78 µs per loop (mean ± std. dev. of 7 runs, 10000 loops each)\n",
      "numba\n",
      "130 µs ± 1.64 µs per loop (mean ± std. dev. of 7 runs, 10000 loops each)\n",
      "282 µs ± 3.52 µs per loop (mean ± std. dev. of 7 runs, 1000 loops each)\n",
      "native\n",
      "2.4 ms ± 73.5 µs per loop (mean ± std. dev. of 7 runs, 100 loops each)\n",
      "74 µs ± 1.19 µs per loop (mean ± std. dev. of 7 runs, 10000 loops each)\n",
      "122 µs ± 1.52 µs per loop (mean ± std. dev. of 7 runs, 10000 loops each)\n"
     ]
    }
   ],
   "source": [
    "import numexpr as ne\n",
    "\n",
    "print(\"python\")\n",
    "%timeit ln_python(X, Y)\n",
    "%timeit ln_python_exp(X, Y)\n",
    "print(\"numexpr (1)\")\n",
    "ne.set_num_threads(1)\n",
    "%timeit ln_numexpr(X, Y)\n",
    "print(\"numexpr ({0})\".format(ne.detect_number_of_cores()))\n",
    "ne.set_num_threads(ne.detect_number_of_cores())\n",
    "%timeit ln_numexpr(X, Y)\n",
    "print(\"hope\")\n",
    "%timeit ln_hope(X, Y)\n",
    "%timeit ln_hope_exp(X, Y)\n",
    "%timeit ln_hope_opt(X, Y)\n",
    "print(\"cython\")\n",
    "%timeit ln_cython(X, Y)\n",
    "%timeit ln_cython_exp(X, Y)\n",
    "print(\"numba\")\n",
    "%timeit ln_numba(X, Y)\n",
    "%timeit ln_numba_exp(X, Y)\n",
    "print(\"native\")\n",
    "%timeit ln_native(X, Y)\n",
    "%timeit ln_native_opt(X, Y)\n",
    "%timeit ln_native_exp(X, Y)\n"
   ]
  },
  {
   "cell_type": "code",
   "execution_count": 15,
   "metadata": {
    "collapsed": true
   },
   "outputs": [],
   "source": [
    "from util import perf_comp_data"
   ]
  },
  {
   "cell_type": "code",
   "execution_count": 16,
   "metadata": {},
   "outputs": [
    {
     "name": "stdout",
     "output_type": "stream",
     "text": [
      "function: ln_native_opt       , av. time sec:   0.00006836, min. time sec:   0.00006819, relative:       1.0\n",
      "function: ln_cython_exp       , av. time sec:   0.00010206, min. time sec:   0.00010199, relative:       1.5\n",
      "function: ln_native_exp       , av. time sec:   0.00011374, min. time sec:   0.00011370, relative:       1.7\n",
      "function: ln_numba            , av. time sec:   0.00011900, min. time sec:   0.00011891, relative:       1.7\n",
      "function: ln_hope_exp         , av. time sec:   0.00013583, min. time sec:   0.00011382, relative:       2.0\n",
      "function: ln_numexpr          , av. time sec:   0.00018525, min. time sec:   0.00017029, relative:       2.7\n",
      "function: ln_numba_exp        , av. time sec:   0.00025554, min. time sec:   0.00025503, relative:       3.7\n",
      "function: ln_python_exp       , av. time sec:   0.00028491, min. time sec:   0.00026110, relative:       4.2\n",
      "function: ln_cython           , av. time sec:   0.00203083, min. time sec:   0.00191422, relative:      29.7\n",
      "function: ln_hope_opt         , av. time sec:   0.00220507, min. time sec:   0.00220174, relative:      32.3\n",
      "function: ln_native           , av. time sec:   0.00220511, min. time sec:   0.00220164, relative:      32.3\n",
      "function: ln_hope             , av. time sec:   0.00221205, min. time sec:   0.00220165, relative:      32.4\n",
      "function: ln_python           , av. time sec:   0.00238910, min. time sec:   0.00224400, relative:      34.9\n"
     ]
    }
   ],
   "source": [
    "func_list = [\"ln_python\", \"ln_python_exp\", \n",
    "             \"ln_numexpr\", \n",
    "             \"ln_hope\", \"ln_hope_exp\", \"ln_hope_opt\", \n",
    "             \"ln_cython\", \"ln_cython_exp\", \n",
    "             \"ln_numba\", \"ln_numba_exp\", \n",
    "             \"ln_native\", \"ln_native_opt\", \"ln_native_exp\", ]\n",
    "perf_comp_data(func_list,\n",
    "               len(func_list)*[\"X, Y\"], rep=100)"
   ]
  },
  {
   "cell_type": "code",
   "execution_count": null,
   "metadata": {
    "collapsed": true
   },
   "outputs": [],
   "source": []
  }
 ],
 "metadata": {
  "kernelspec": {
   "display_name": "Python 3",
   "language": "python",
   "name": "python3"
  },
  "language_info": {
   "codemirror_mode": {
    "name": "ipython",
    "version": 3
   },
   "file_extension": ".py",
   "mimetype": "text/x-python",
   "name": "python",
   "nbconvert_exporter": "python",
   "pygments_lexer": "ipython3",
   "version": "3.5.1"
  }
 },
 "nbformat": 4,
 "nbformat_minor": 1
}
