{
 "cells": [
  {
   "cell_type": "code",
   "execution_count": 1,
   "metadata": {},
   "outputs": [
    {
     "data": {
      "application/json": {
       "Software versions": [
        {
         "module": "Python",
         "version": "2.7.8 (default, Jul 13 2014, 17:11:32) [GCC 4.2.1 Compatible Apple LLVM 5.1 (clang-503.0.40)]"
        },
        {
         "module": "IPython",
         "version": "1.1.0"
        },
        {
         "module": "OS",
         "version": "posix [darwin]"
        },
        {
         "module": "numpy",
         "version": "1.8.1"
        },
        {
         "module": "Cython",
         "version": "0.20.2"
        },
        {
         "module": "numba",
         "version": "0.13.3"
        },
        {
         "module": "hope",
         "version": "0.3.0"
        },
        {
         "module": "numexpr",
         "version": "2.4"
        }
       ]
      },
      "text/html": [
       "<table><tr><th>Software</th><th>Version</th></tr><tr><td>Python</td><td>2.7.8 (default, Jul 13 2014, 17:11:32) [GCC 4.2.1 Compatible Apple LLVM 5.1 (clang-503.0.40)]</td></tr><tr><td>IPython</td><td>1.1.0</td></tr><tr><td>OS</td><td>posix [darwin]</td></tr><tr><td>numpy</td><td>1.8.1</td></tr><tr><td>Cython</td><td>0.20.2</td></tr><tr><td>numba</td><td>0.13.3</td></tr><tr><td>hope</td><td>0.3.0</td></tr><tr><td>numexpr</td><td>2.4</td></tr><tr><td colspan='2'>Thu Sep 04 15:13:34 2014 CEST</td></tr></table>"
      ],
      "text/latex": [
       "\\begin{tabular}{|l|l|}\\hline\n",
       "{\\bf Software} & {\\bf Version} \\\\ \\hline\\hline\n",
       "Python & 2.7.8 (default, Jul 13 2014, 17:11:32) [GCC 4.2.1 Compatible Apple LLVM 5.1 (clang-503.0.40)] \\\\ \\hline\n",
       "IPython & 1.1.0 \\\\ \\hline\n",
       "OS & posix [darwin] \\\\ \\hline\n",
       "numpy & 1.8.1 \\\\ \\hline\n",
       "Cython & 0.20.2 \\\\ \\hline\n",
       "numba & 0.13.3 \\\\ \\hline\n",
       "hope & 0.3.0 \\\\ \\hline\n",
       "numexpr & 2.4 \\\\ \\hline\n",
       "\\hline \\multicolumn{2}{|l|}{Thu Sep 04 15:13:34 2014 CEST} \\\\ \\hline\n",
       "\\end{tabular}\n"
      ],
      "text/plain": [
       "Software versions\n",
       "Python 2.7.8 (default, Jul 13 2014, 17:11:32) [GCC 4.2.1 Compatible Apple LLVM 5.1 (clang-503.0.40)]\n",
       "IPython 1.1.0\n",
       "OS posix [darwin]\n",
       "numpy 1.8.1\n",
       "Cython 0.20.2\n",
       "numba 0.13.3\n",
       "hope 0.3.0\n",
       "numexpr 2.4\n",
       "<tr><td colspan='2'>Thu Sep 04 15:13:34 2014 CEST</td></tr>"
      ]
     },
     "execution_count": 1,
     "metadata": {},
     "output_type": "execute_result"
    }
   ],
   "source": [
    "import hope\n",
    "hope.config.optimize = True\n",
    "hope.config.verbose = True\n",
    "hope.config.keeptemp = True\n",
    "import numba\n",
    "import numpy as np\n",
    "import numexpr as ne\n",
    "\n",
    "from util import perf_comp_data\n",
    "from native_util import load\n",
    "%load_ext cythonmagic\n",
    "%load_ext version_information\n",
    "%version_information numpy, Cython, numba, hope, numexpr"
   ]
  },
  {
   "cell_type": "code",
   "execution_count": 2,
   "metadata": {
    "slideshow": {
     "slide_type": "slide"
    }
   },
   "outputs": [],
   "source": [
    "# Python version\n",
    "\n",
    "def ln_python(X, Y):\n",
    "    Y[:] = (X-1) - (X-1)**2 / 2 + (X-1)**3 / 3 - (X-1)**4 / 4 + (X-1)**5 / 5 - (X-1)**6 / 6 + (X-1)**7 / 7 - (X-1)**8 / 8 + (X-1)**9 / 9\n"
   ]
  },
  {
   "cell_type": "code",
   "execution_count": 3,
   "metadata": {
    "slideshow": {
     "slide_type": "slide"
    }
   },
   "outputs": [],
   "source": [
    "# Python version\n",
    "\n",
    "def ln_python_exp(X, Y):\n",
    "    x = (X - 1)\n",
    "    x2 = x*x\n",
    "    x4 = x2*x2\n",
    "    x6 = x4*x2\n",
    "    x8 = x4*x4\n",
    "    Y[:] = x - x2 / 2 + x * x2 / 3 - x4 / 4 + x * x4 / 5 - x6 / 6 + x6 * x / 7 - x8 / 8 + x8 * x / 9"
   ]
  },
  {
   "cell_type": "code",
   "execution_count": 4,
   "metadata": {
    "slideshow": {
     "slide_type": "slide"
    }
   },
   "outputs": [],
   "source": [
    "# NumExpr version\n",
    "def ln_numexpr(X, Y):\n",
    "    Y[:] = ne.evaluate(\"(X-1) - (X-1)**2 / 2 + (X-1)**3 / 3 - (X-1)**4 / 4 + (X-1)**5 / 5 - (X-1)**6 / 6 + (X-1)**7 / 7 - (X-1)**8 / 8 + (X-1)**9 / 9\")\n"
   ]
  },
  {
   "cell_type": "code",
   "execution_count": 5,
   "metadata": {
    "slideshow": {
     "slide_type": "slide"
    }
   },
   "outputs": [
    {
     "name": "stderr",
     "output_type": "stream",
     "text": [
      "/Users/jakeret/workspace/hope/hope/jit.py:128: UserWarning: Recompiling... Reason: State is inconsistent with config. Inconsistent state key: [optimize].\n",
      "  warnings.warn(\"Recompiling... Reason: {0}\".format(le))\n"
     ]
    }
   ],
   "source": [
    "# Hope version\n",
    "@hope.jit\n",
    "def ln_hope(X, Y):\n",
    "    Y[:] = (X-1) - (X-1)**2 / 2 + (X-1)**3 / 3 - (X-1)**4 / 4 + (X-1)**5 / 5 - (X-1)**6 / 6 + (X-1)**7 / 7 - (X-1)**8 / 8 + (X-1)**9 / 9\n"
   ]
  },
  {
   "cell_type": "code",
   "execution_count": 6,
   "metadata": {
    "slideshow": {
     "slide_type": "slide"
    }
   },
   "outputs": [],
   "source": [
    "# Hope version\n",
    "\n",
    "import hope\n",
    "hope.config.optimize = False\n",
    "@hope.jit\n",
    "def ln_hope_exp(X, Y):\n",
    "    x = (X - 1)\n",
    "    x2 = x*x\n",
    "    x4 = x2*x2\n",
    "    x6 = x4*x2\n",
    "    x8 = x4*x4\n",
    "    Y[:] = x - x2 / 2 + x * x2 / 3 - x4 / 4 + x * x4 / 5 - x6 / 6 + x6 * x / 7 - x8 / 8 + x8 * x / 9"
   ]
  },
  {
   "cell_type": "code",
   "execution_count": 7,
   "metadata": {
    "slideshow": {
     "slide_type": "slide"
    }
   },
   "outputs": [],
   "source": [
    "# numba version\n",
    "\n",
    "@numba.jit\n",
    "def ln_numba(X, Y):\n",
    "    Y[:] = (X-1) - (X-1)**2 / 2 + (X-1)**3 / 3 - (X-1)**4 / 4 + (X-1)**5 / 5 - (X-1)**6 / 6 + (X-1)**7 / 7 - (X-1)**8 / 8 + (X-1)**9 / 9\n"
   ]
  },
  {
   "cell_type": "code",
   "execution_count": 8,
   "metadata": {
    "slideshow": {
     "slide_type": "slide"
    }
   },
   "outputs": [],
   "source": [
    "# numba version\n",
    "\n",
    "import numba\n",
    "\n",
    "@numba.jit\n",
    "def ln_numba_exp(X, Y):\n",
    "    x = (X - 1)\n",
    "    x2 = x*x\n",
    "    x4 = x2*x2\n",
    "    x6 = x4*x2\n",
    "    x8 = x4*x4\n",
    "    Y[:] = x - x2 / 2 + x * x2 / 3 - x4 / 4 + x * x4 / 5 - x6 / 6 + x6 * x / 7 - x8 / 8 + x8 * x / 9"
   ]
  },
  {
   "cell_type": "code",
   "execution_count": 9,
   "metadata": {},
   "outputs": [
    {
     "name": "stdout",
     "output_type": "stream",
     "text": [
      "The cythonmagic extension is already loaded. To reload it, use:\n",
      "  %reload_ext cythonmagic\n"
     ]
    }
   ],
   "source": [
    "%load_ext cythonmagic"
   ]
  },
  {
   "cell_type": "code",
   "execution_count": 10,
   "metadata": {},
   "outputs": [],
   "source": [
    "%%cython\n",
    "\n",
    "cimport cython\n",
    "\n",
    "cimport cython\n",
    "import numpy as np\n",
    "cimport numpy as np\n",
    "\n",
    "@cython.boundscheck(False)\n",
    "@cython.wraparound(False)\n",
    "def ln_cython(np.ndarray[np.double_t, ndim=1] X, np.ndarray[np.double_t, ndim=1] Y):\n",
    "    Y[:] = (X-1) - (X-1)**2 / 2 + (X-1)**3 / 3 - (X-1)**4 / 4 + (X-1)**5 / 5 - (X-1)**6 / 6 + (X-1)**7 / 7 - (X-1)**8 / 8 + (X-1)**9 / 9\n",
    "\n",
    "    \n",
    "@cython.boundscheck(False)\n",
    "@cython.wraparound(False)\n",
    "def ln_cython_exp(np.ndarray[np.float_t, ndim=1] X, np.ndarray[np.float_t, ndim=1] Y):\n",
    "    cdef np.ndarray[np.double_t, ndim=1] x = (X - 1)\n",
    "    cdef np.ndarray[np.double_t, ndim=1] x2 = x*x\n",
    "    cdef np.ndarray[np.double_t, ndim=1] x4 = x2*x2\n",
    "    cdef np.ndarray[np.double_t, ndim=1] x6 = x4*x2\n",
    "    cdef np.ndarray[np.double_t, ndim=1] x8 = x4*x4\n",
    "    Y[:] = x - x2 / 2 + x * x2 / 3 - x4 / 4 + x * x4 / 5 - x6 / 6 + x6 * x / 7 - x8 / 8 + x8 * x / 9"
   ]
  },
  {
   "cell_type": "code",
   "execution_count": 11,
   "metadata": {},
   "outputs": [
    {
     "name": "stdout",
     "output_type": "stream",
     "text": [
      "running build_ext\n",
      "building 'ln' extension\n",
      "C compiler: /usr/bin/clang -fno-strict-aliasing -fno-common -dynamic -pipe -Os -fwrapv -DNDEBUG -g -fwrapv -O3 -Wall -Wstrict-prototypes\n",
      "\n",
      "compile options: '-I/Users/jakeret/Library/Python/2.7/lib/python/site-packages/numpy/core/include -I/opt/local/Library/Frameworks/Python.framework/Versions/2.7/include/python2.7 -c'\n",
      "extra options: '-Wall -Wno-unused-variable -march=native -stdlib=libc++ -std=c++11'\n",
      "clang: ././src/ln.cpp\n",
      "/usr/bin/clang++ -bundle -undefined dynamic_lookup -L/opt/local/lib -Wl,-headerpad_max_install_names -L/opt/local/lib/db46 ./src/ln.o -o ./ln.so\n",
      "\n",
      "running build_ext\n",
      "building 'ln_opt' extension\n",
      "C compiler: /usr/bin/clang -fno-strict-aliasing -fno-common -dynamic -pipe -Os -fwrapv -DNDEBUG -g -fwrapv -O3 -Wall -Wstrict-prototypes\n",
      "\n",
      "compile options: '-I/Users/jakeret/Library/Python/2.7/lib/python/site-packages/numpy/core/include -I/opt/local/Library/Frameworks/Python.framework/Versions/2.7/include/python2.7 -c'\n",
      "extra options: '-Wall -Wno-unused-variable -march=native -stdlib=libc++ -std=c++11'\n",
      "clang: ././src/ln_opt.cpp\n",
      "/usr/bin/clang++ -bundle -undefined dynamic_lookup -L/opt/local/lib -Wl,-headerpad_max_install_names -L/opt/local/lib/db46 ./src/ln_opt.o -o ./ln_opt.so\n",
      "\n",
      "running build_ext\n",
      "building 'ln_exp' extension\n",
      "C compiler: /usr/bin/clang -fno-strict-aliasing -fno-common -dynamic -pipe -Os -fwrapv -DNDEBUG -g -fwrapv -O3 -Wall -Wstrict-prototypes\n",
      "\n",
      "compile options: '-I/Users/jakeret/Library/Python/2.7/lib/python/site-packages/numpy/core/include -I/opt/local/Library/Frameworks/Python.framework/Versions/2.7/include/python2.7 -c'\n",
      "extra options: '-Wall -Wno-unused-variable -march=native -stdlib=libc++ -std=c++11'\n",
      "clang: ././src/ln_exp.cpp\n",
      "/usr/bin/clang++ -bundle -undefined dynamic_lookup -L/opt/local/lib -Wl,-headerpad_max_install_names -L/opt/local/lib/db46 ./src/ln_exp.o -o ./ln_exp.so\n",
      "\n"
     ]
    }
   ],
   "source": [
    "from native_util import load\n",
    "native_ln_mod = load(\"ln\")\n",
    "ln_native = native_ln_mod.run\n",
    "\n",
    "native_ln_opt_mod = load(\"ln_opt\")\n",
    "ln_native_opt = native_ln_opt_mod.run\n",
    "\n",
    "native_ln_exp_mod = load(\"ln_exp\")\n",
    "ln_native_exp = native_ln_exp_mod.run\n"
   ]
  },
  {
   "cell_type": "code",
   "execution_count": 13,
   "metadata": {
    "slideshow": {
     "slide_type": "notes"
    }
   },
   "outputs": [],
   "source": [
    "# Hope version - optimized\n",
    "\n",
    "import hope\n",
    "hope.config.optimize = True\n",
    "\n",
    "@hope.jit\n",
    "def ln_hope_opt(X, Y):\n",
    "    Y[:] = (X-1) - (X-1)**2 / 2 + (X-1)**3 / 3 - (X-1)**4 / 4 + (X-1)**5 / 5 - (X-1)**6 / 6 + (X-1)**7 / 7 - (X-1)**8 / 8 + (X-1)**9 / 9\n",
    "\n",
    "\n",
    "hope.config.optimize = False"
   ]
  },
  {
   "cell_type": "code",
   "execution_count": 15,
   "metadata": {
    "slideshow": {
     "slide_type": "slide"
    }
   },
   "outputs": [],
   "source": [
    "import numpy as np\n",
    "\n",
    "X = np.random.random(10000).astype(np.float64)\n",
    "Y = np.ones_like(X)"
   ]
  },
  {
   "cell_type": "code",
   "execution_count": 17,
   "metadata": {},
   "outputs": [],
   "source": [
    "Y1 = np.ones_like(X)\n",
    "Y2 = np.ones_like(X)\n",
    "Y3 = np.ones_like(X)\n",
    "Y4 = np.ones_like(X)\n",
    "Y5 = np.ones_like(X)\n",
    "Y6 = np.ones_like(X)\n",
    "Y7 = np.ones_like(X)\n",
    "Y8 = np.ones_like(X)\n",
    "Y9 = np.ones_like(X)\n",
    "Y10 = np.ones_like(X)\n",
    "Y11 = np.ones_like(X)\n",
    "Y12 = np.ones_like(X)\n",
    "Y13 = np.ones_like(X)\n",
    "\n",
    "ln_python(X, Y1)\n",
    "ln_python_exp(X, Y2)\n",
    "ln_cython(X, Y3)\n",
    "ln_cython_exp(X, Y4)\n",
    "ln_numexpr(X, Y5)\n",
    "ln_hope(X, Y6)\n",
    "ln_hope_exp(X, Y7)\n",
    "ln_numba(X, Y8)\n",
    "ln_numba_exp(X, Y9)\n",
    "ln_native(X, Y10)\n",
    "ln_native_opt(X, Y11)\n",
    "ln_native_exp(X, Y12)\n",
    "ln_hope_opt(X, Y13)\n",
    "\n",
    "assert np.allclose(Y1,Y2, 1E-10)\n",
    "assert np.allclose(Y1,Y3, 1E-10)\n",
    "assert np.allclose(Y1,Y4, 1E-10)\n",
    "assert np.allclose(Y1,Y5, 1E-10)\n",
    "assert np.allclose(Y1,Y6, 1E-10)\n",
    "assert np.allclose(Y1,Y7, 1E-10)\n",
    "assert np.allclose(Y1,Y8, 1E-10)\n",
    "assert np.allclose(Y1,Y9, 1E-10)\n",
    "assert np.allclose(Y1,Y10, 1E-10)\n",
    "assert np.allclose(Y1,Y11, 1E-10)\n",
    "assert np.allclose(Y1,Y12, 1E-10)\n",
    "assert np.allclose(Y1,Y13, 1E-10)\n"
   ]
  },
  {
   "cell_type": "code",
   "execution_count": 18,
   "metadata": {
    "slideshow": {
     "slide_type": "slide"
    }
   },
   "outputs": [
    {
     "name": "stdout",
     "output_type": "stream",
     "text": [
      "python\n",
      "100 loops, best of 3: 2.4 ms per loop\n",
      "1000 loops, best of 3: 299 µs per loop\n",
      "numexpr (1)\n",
      "1000 loops, best of 3: 400 µs per loop\n",
      "numexpr (8)\n",
      "1000 loops, best of 3: 200 µs per loop\n",
      "hope\n",
      "10000 loops, best of 3: 128 µs per loop\n",
      "1000 loops, best of 3: 212 µs per loop\n",
      "10000 loops, best of 3: 128 µs per loop\n",
      "cython\n",
      "100 loops, best of 3: 2.4 ms per loop\n",
      "1000 loops, best of 3: 305 µs per loop\n",
      "numba\n",
      "100 loops, best of 3: 2.41 ms per loop\n",
      "1000 loops, best of 3: 305 µs per loop\n",
      "native\n",
      "100 loops, best of 3: 2.12 ms per loop\n",
      "10000 loops, best of 3: 128 µs per loop\n",
      "10000 loops, best of 3: 106 µs per loop\n"
     ]
    }
   ],
   "source": [
    "import numexpr as ne\n",
    "\n",
    "print \"python\"\n",
    "%timeit ln_python(X, Y)\n",
    "%timeit ln_python_exp(X, Y)\n",
    "print \"numexpr (1)\"\n",
    "ne.set_num_threads(1)\n",
    "%timeit ln_numexpr(X, Y)\n",
    "print \"numexpr ({0})\".format(ne.detect_number_of_cores())\n",
    "ne.set_num_threads(ne.detect_number_of_cores())\n",
    "%timeit ln_numexpr(X, Y)\n",
    "print \"hope\"\n",
    "%timeit ln_hope(X, Y)\n",
    "%timeit ln_hope_exp(X, Y)\n",
    "%timeit ln_hope_opt(X, Y)\n",
    "print \"cython\"\n",
    "%timeit ln_cython(X, Y)\n",
    "%timeit ln_cython_exp(X, Y)\n",
    "print \"numba\"\n",
    "%timeit ln_numba(X, Y)\n",
    "%timeit ln_numba_exp(X, Y)\n",
    "print \"native\"\n",
    "%timeit ln_native(X, Y)\n",
    "%timeit ln_native_opt(X, Y)\n",
    "%timeit ln_native_exp(X, Y)\n"
   ]
  },
  {
   "cell_type": "code",
   "execution_count": 19,
   "metadata": {},
   "outputs": [],
   "source": [
    "from util import perf_comp_data"
   ]
  },
  {
   "cell_type": "code",
   "execution_count": 20,
   "metadata": {},
   "outputs": [
    {
     "name": "stdout",
     "output_type": "stream",
     "text": [
      "function: ln_native_exp       , av. time sec:   0.00010705, min. time sec:   0.00010586, relative:       1.0\n",
      "function: ln_hope_opt         , av. time sec:   0.00012398, min. time sec:   0.00012398, relative:       1.2\n",
      "function: ln_hope             , av. time sec:   0.00012422, min. time sec:   0.00012398, relative:       1.2\n",
      "function: ln_native_opt       , av. time sec:   0.00012803, min. time sec:   0.00012708, relative:       1.2\n",
      "function: ln_hope_exp         , av. time sec:   0.00020707, min. time sec:   0.00020695, relative:       1.9\n",
      "function: ln_numexpr          , av. time sec:   0.00021243, min. time sec:   0.00018501, relative:       2.0\n",
      "function: ln_python_exp       , av. time sec:   0.00029302, min. time sec:   0.00029206, relative:       2.7\n",
      "function: ln_numba_exp        , av. time sec:   0.00030351, min. time sec:   0.00029993, relative:       2.8\n",
      "function: ln_cython_exp       , av. time sec:   0.00030696, min. time sec:   0.00029683, relative:       2.9\n",
      "function: ln_native           , av. time sec:   0.00215054, min. time sec:   0.00208783, relative:      20.1\n",
      "function: ln_cython           , av. time sec:   0.00241804, min. time sec:   0.00235510, relative:      22.6\n",
      "function: ln_numba            , av. time sec:   0.00241804, min. time sec:   0.00237322, relative:      22.6\n",
      "function: ln_python           , av. time sec:   0.00243747, min. time sec:   0.00235200, relative:      22.8\n"
     ]
    }
   ],
   "source": [
    "func_list = [\"ln_python\", \"ln_python_exp\", \n",
    "             \"ln_numexpr\", \n",
    "             \"ln_hope\", \"ln_hope_exp\", \"ln_hope_opt\", \n",
    "             \"ln_cython\", \"ln_cython_exp\", \n",
    "             \"ln_numba\", \"ln_numba_exp\", \n",
    "             \"ln_native\", \"ln_native_opt\", \"ln_native_exp\", ]\n",
    "perf_comp_data(func_list,\n",
    "               len(func_list)*[\"X, Y\"], rep=100)"
   ]
  },
  {
   "cell_type": "code",
   "execution_count": null,
   "metadata": {},
   "outputs": [],
   "source": []
  }
 ],
 "metadata": {
  "kernelspec": {
   "display_name": "Python 3",
   "language": "python",
   "name": "python3"
  },
  "language_info": {
   "codemirror_mode": {
    "name": "ipython",
    "version": 3
   },
   "file_extension": ".py",
   "mimetype": "text/x-python",
   "name": "python",
   "nbconvert_exporter": "python",
   "pygments_lexer": "ipython3",
   "version": "3.5.1"
  }
 },
 "nbformat": 4,
 "nbformat_minor": 1
}
