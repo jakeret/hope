{
 "cells": [
  {
   "cell_type": "code",
   "execution_count": 1,
   "metadata": {},
   "outputs": [],
   "source": [
    "from util import perf_comp_data"
   ]
  },
  {
   "cell_type": "code",
   "execution_count": 2,
   "metadata": {},
   "outputs": [],
   "source": [
    "def fib(n):\n",
    "    if n < 2:\n",
    "        return n\n",
    "    return fib(n - 1) + fib(n - 2)\n",
    "\n",
    "assert fib(20) == 6765"
   ]
  },
  {
   "cell_type": "code",
   "execution_count": 3,
   "metadata": {},
   "outputs": [],
   "source": [
    "from hope import jit\n",
    "\n",
    "hope_fib = jit(fib)\n",
    "\n",
    "assert hope_fib(20) == 6765"
   ]
  },
  {
   "cell_type": "code",
   "execution_count": 4,
   "metadata": {},
   "outputs": [],
   "source": [
    "from numba import jit\n",
    "\n",
    "numba_fib = jit(fib)\n",
    "assert numba_fib(20) == 6765"
   ]
  },
  {
   "cell_type": "code",
   "execution_count": 5,
   "metadata": {},
   "outputs": [
    {
     "name": "stdout",
     "output_type": "stream",
     "text": [
      "python\n",
      "100 loops, best of 3: 2.59 ms per loop\n",
      "hope 1\n",
      "10000 loops, best of 3: 42 µs per loop\n",
      "numba\n",
      "100 loops, best of 3: 2.67 ms per loop\n"
     ]
    }
   ],
   "source": [
    "print \"python\"\n",
    "%timeit fib(20)\n",
    "print \"hope 1\"\n",
    "%timeit hope_fib(20)\n",
    "print \"numba\"\n",
    "%timeit numba_fib(20)"
   ]
  },
  {
   "cell_type": "code",
   "execution_count": 6,
   "metadata": {},
   "outputs": [
    {
     "name": "stdout",
     "output_type": "stream",
     "text": [
      "function: hope_fib                      , av. time sec:   0.00005205, relative:       1.0\n",
      "function: fib                           , av. time sec:   0.00290926, relative:      55.9\n",
      "function: numba_fib                     , av. time sec:   0.00306726, relative:      58.9\n"
     ]
    }
   ],
   "source": [
    "n=20\n",
    "perf_comp_data([\"fib\", \"hope_fib\", \"numba_fib\"], 3*[\"n\"])"
   ]
  },
  {
   "cell_type": "code",
   "execution_count": 7,
   "metadata": {},
   "outputs": [
    {
     "name": "stdout",
     "output_type": "stream",
     "text": [
      "fib (int64,)\n",
      "--------------------------------------------------------------------------------\n",
      "# File: <ipython-input-2-24febe657cfb>\n",
      "# --- LINE 1 --- \n",
      "\n",
      "def fib(n):\n",
      "\n",
      "    # --- LINE 2 --- \n",
      "    # label 0\n",
      "    #   n.1 = n  :: pyobject\n",
      "    #   $const0.2 = const(<type 'int'>, 2)  :: pyobject\n",
      "    #   $0.3 = n.1 < $const0.2  :: pyobject\n",
      "    #   branch $0.3, 12, 16\n",
      "\n",
      "    if n < 2:\n",
      "\n",
      "        # --- LINE 3 --- \n",
      "        # label 12\n",
      "        #   return n.1\n",
      "\n",
      "        return n\n",
      "\n",
      "    # --- LINE 4 --- \n",
      "    # label 16\n",
      "    #   $16.1 = global(fib: <function fib at 0x10e6e9cf8>)  :: pyobject\n",
      "    #   $const16.3 = const(<type 'int'>, 1)  :: pyobject\n",
      "    #   $16.4 = n.1 - $const16.3  :: pyobject\n",
      "    #   $16.5 = call $16.1($16.4, )  :: pyobject\n",
      "    #   $16.6 = global(fib: <function fib at 0x10e6e9cf8>)  :: pyobject\n",
      "    #   $const16.8 = const(<type 'int'>, 2)  :: pyobject\n",
      "    #   $16.9 = n.1 - $const16.8  :: pyobject\n",
      "    #   $16.10 = call $16.6($16.9, )  :: pyobject\n",
      "    #   $16.11 = $16.5 + $16.10  :: pyobject\n",
      "    #   return $16.11\n",
      "\n",
      "    return fib(n - 1) + fib(n - 2)\n",
      "\n",
      "\n",
      "================================================================================\n"
     ]
    }
   ],
   "source": [
    "numba_fib.inspect_types()"
   ]
  },
  {
   "cell_type": "code",
   "execution_count": null,
   "metadata": {},
   "outputs": [],
   "source": []
  }
 ],
 "metadata": {
  "kernelspec": {
   "display_name": "Python 3",
   "language": "python",
   "name": "python3"
  },
  "language_info": {
   "codemirror_mode": {
    "name": "ipython",
    "version": 3
   },
   "file_extension": ".py",
   "mimetype": "text/x-python",
   "name": "python",
   "nbconvert_exporter": "python",
   "pygments_lexer": "ipython3",
   "version": "3.5.1"
  }
 },
 "nbformat": 4,
 "nbformat_minor": 1
}
