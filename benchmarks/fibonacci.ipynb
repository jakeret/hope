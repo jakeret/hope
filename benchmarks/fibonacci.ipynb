{
 "cells": [
  {
   "cell_type": "code",
   "execution_count": 1,
   "metadata": {
    "collapsed": true
   },
   "outputs": [],
   "source": [
    "from util import perf_comp_data"
   ]
  },
  {
   "cell_type": "code",
   "execution_count": 2,
   "metadata": {
    "collapsed": true
   },
   "outputs": [],
   "source": [
    "def fib(n):\n",
    "    if n < 2:\n",
    "        return n\n",
    "    return fib(n - 1) + fib(n - 2)\n",
    "\n",
    "assert fib(20) == 6765"
   ]
  },
  {
   "cell_type": "code",
   "execution_count": 3,
   "metadata": {
    "collapsed": true
   },
   "outputs": [],
   "source": [
    "from hope import jit\n",
    "\n",
    "hope_fib = jit(fib)\n",
    "\n",
    "assert hope_fib(20) == 6765"
   ]
  },
  {
   "cell_type": "code",
   "execution_count": 4,
   "metadata": {
    "collapsed": true
   },
   "outputs": [],
   "source": [
    "from numba import jit\n",
    "\n",
    "numba_fib = jit(fib)\n",
    "assert numba_fib(20) == 6765"
   ]
  },
  {
   "cell_type": "code",
   "execution_count": 5,
   "metadata": {},
   "outputs": [
    {
     "name": "stdout",
     "output_type": "stream",
     "text": [
      "python\n",
      "3.13 ms ± 139 µs per loop (mean ± std. dev. of 7 runs, 100 loops each)\n",
      "hope 1\n",
      "39.4 µs ± 617 ns per loop (mean ± std. dev. of 7 runs, 10000 loops each)\n",
      "numba\n",
      "3.07 ms ± 40.8 µs per loop (mean ± std. dev. of 7 runs, 100 loops each)\n"
     ]
    }
   ],
   "source": [
    "print(\"python\")\n",
    "%timeit fib(20)\n",
    "print(\"hope 1\")\n",
    "%timeit hope_fib(20)\n",
    "print(\"numba\")\n",
    "%timeit numba_fib(20)"
   ]
  },
  {
   "cell_type": "code",
   "execution_count": 6,
   "metadata": {},
   "outputs": [
    {
     "name": "stdout",
     "output_type": "stream",
     "text": [
      "function: hope_fib            , av. time sec:   0.00005121, min. time sec:   0.00004093, relative:       1.0\n",
      "function: numba_fib           , av. time sec:   0.00359036, min. time sec:   0.00320426, relative:      70.1\n",
      "function: fib                 , av. time sec:   0.00361408, min. time sec:   0.00353485, relative:      70.6\n"
     ]
    }
   ],
   "source": [
    "n=20\n",
    "perf_comp_data([\"fib\", \"hope_fib\", \"numba_fib\"], 3*[\"n\"])"
   ]
  },
  {
   "cell_type": "code",
   "execution_count": 7,
   "metadata": {},
   "outputs": [
    {
     "name": "stdout",
     "output_type": "stream",
     "text": [
      "fib (int64,)\n",
      "--------------------------------------------------------------------------------\n",
      "# File: <ipython-input-2-24febe657cfb>\n",
      "# --- LINE 1 --- \n",
      "# label 0\n",
      "#   del $const0.2\n",
      "\n",
      "def fib(n):\n",
      "\n",
      "    # --- LINE 2 --- \n",
      "    #   n = arg(0, name=n)  :: pyobject\n",
      "    #   $const0.2 = const(int, 2)  :: pyobject\n",
      "    #   $0.3 = n < $const0.2  :: pyobject\n",
      "    #   branch $0.3, 12, 16\n",
      "    # label 12\n",
      "    #   del $0.3\n",
      "    #   del n\n",
      "\n",
      "    if n < 2:\n",
      "\n",
      "        # --- LINE 3 --- \n",
      "        #   $12.2 = cast(value=n)  :: pyobject\n",
      "        #   return $12.2\n",
      "        # label 16\n",
      "        #   del $0.3\n",
      "        #   del $const16.3\n",
      "        #   del $16.4\n",
      "        #   del $16.1\n",
      "        #   del n\n",
      "        #   del $const16.8\n",
      "        #   del $16.9\n",
      "        #   del $16.6\n",
      "        #   del $16.5\n",
      "        #   del $16.10\n",
      "        #   del $16.11\n",
      "\n",
      "        return n\n",
      "\n",
      "    # --- LINE 4 --- \n",
      "    #   $16.1 = global(fib: <function fib at 0x106d39620>)  :: pyobject\n",
      "    #   $const16.3 = const(int, 1)  :: pyobject\n",
      "    #   $16.4 = n - $const16.3  :: pyobject\n",
      "    #   $16.5 = call $16.1($16.4, kws=[], args=[Var($16.4, <ipython-input-2-24febe657cfb> (4))], func=$16.1, vararg=None)  :: pyobject\n",
      "    #   $16.6 = global(fib: <function fib at 0x106d39620>)  :: pyobject\n",
      "    #   $const16.8 = const(int, 2)  :: pyobject\n",
      "    #   $16.9 = n - $const16.8  :: pyobject\n",
      "    #   $16.10 = call $16.6($16.9, kws=[], args=[Var($16.9, <ipython-input-2-24febe657cfb> (4))], func=$16.6, vararg=None)  :: pyobject\n",
      "    #   $16.11 = $16.5 + $16.10  :: pyobject\n",
      "    #   $16.12 = cast(value=$16.11)  :: pyobject\n",
      "    #   return $16.12\n",
      "\n",
      "    return fib(n - 1) + fib(n - 2)\n",
      "\n",
      "\n",
      "================================================================================\n"
     ]
    }
   ],
   "source": [
    "numba_fib.inspect_types()"
   ]
  },
  {
   "cell_type": "code",
   "execution_count": null,
   "metadata": {
    "collapsed": true
   },
   "outputs": [],
   "source": []
  }
 ],
 "metadata": {
  "kernelspec": {
   "display_name": "Python 3",
   "language": "python",
   "name": "python3"
  },
  "language_info": {
   "codemirror_mode": {
    "name": "ipython",
    "version": 3
   },
   "file_extension": ".py",
   "mimetype": "text/x-python",
   "name": "python",
   "nbconvert_exporter": "python",
   "pygments_lexer": "ipython3",
   "version": "3.5.1"
  }
 },
 "nbformat": 4,
 "nbformat_minor": 1
}
